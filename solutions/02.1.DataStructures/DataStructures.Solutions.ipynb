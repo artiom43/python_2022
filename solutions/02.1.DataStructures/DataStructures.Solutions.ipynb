{
 "cells": [
  {
   "cell_type": "markdown",
   "id": "47e5c221",
   "metadata": {
    "slideshow": {
     "slide_type": "slide"
    }
   },
   "source": [
    "<center>\n",
    "    <img src=\"https://upload.wikimedia.org/wikipedia/commons/a/a8/%D0%9B%D0%9E%D0%93%D0%9E_%D0%A8%D0%90%D0%94.png\" width=500px/>\n",
    "    <font>Python 2022</font><br/>\n",
    "    <br/>\n",
    "    <br/>\n",
    "    <b style=\"font-size: 2em\">Разбор задач: DataStructures</b><br/>\n",
    "    <br/>\n",
    "</center>"
   ]
  },
  {
   "cell_type": "markdown",
   "id": "29021ffd",
   "metadata": {
    "slideshow": {
     "slide_type": "slide"
    }
   },
   "source": [
    "### 1. reverse_dict  → etalon"
   ]
  },
  {
   "cell_type": "code",
   "execution_count": 1,
   "id": "1dca1f7b",
   "metadata": {},
   "outputs": [
    {
     "name": "stdout",
     "output_type": "stream",
     "text": [
      "66.2 ms ± 1.35 ms per loop (mean ± std. dev. of 7 runs, 10 loops each)\n"
     ]
    }
   ],
   "source": [
    "import typing as tp\n",
    "\n",
    "from collections import defaultdict\n",
    "\n",
    "\n",
    "def revert(dct: tp.Mapping[str, str]) -> dict[str, list[str]]:\n",
    "    \"\"\"\n",
    "    :param dct: dictionary to revert in format {key: value}\n",
    "    :return: reverted dictionary {value: [key1, key2, key3]}\n",
    "    \"\"\"\n",
    "\n",
    "    new_dct: dict[str, list[str]] = defaultdict(list)\n",
    "\n",
    "    for key, value in dct.items():\n",
    "        new_dct[value].append(key)\n",
    "\n",
    "    return new_dct  # no tests on dict() cast\n",
    "\n",
    "a = {str(i): \"1\" for i in range(1005000)}\n",
    "%timeit revert(a)"
   ]
  },
  {
   "cell_type": "markdown",
   "id": "24b91212",
   "metadata": {
    "slideshow": {
     "font": "monospace",
     "slide_type": "slide"
    }
   },
   "source": [
    "### 1. reverse_dict  → Сложение списков"
   ]
  },
  {
   "cell_type": "code",
   "execution_count": 2,
   "id": "e6ccfd6f",
   "metadata": {},
   "outputs": [
    {
     "name": "stdout",
     "output_type": "stream",
     "text": [
      "337 ms ± 6.05 ms per loop (mean ± std. dev. of 7 runs, 1 loop each)\n"
     ]
    }
   ],
   "source": [
    "def revert(dct: tp.Mapping[str, str]) -> dict[str, list[str]]:\n",
    "    d: dict[str, list[str]] = dict()\n",
    "    for item in dct.keys():  # item, elem in dct.items()\n",
    "        elem = dct[item]\n",
    "        if elem in d.keys():\n",
    "            d[elem] += [item]\n",
    "        else:\n",
    "            d[elem] = [item]\n",
    "    return d\n",
    "\n",
    "a = {str(i): \"1\" for i in range(1005000)}\n",
    "%timeit revert(a)"
   ]
  },
  {
   "cell_type": "code",
   "execution_count": 3,
   "id": "e8396476",
   "metadata": {},
   "outputs": [
    {
     "name": "stdout",
     "output_type": "stream",
     "text": [
      "136 ms ± 1.56 ms per loop (mean ± std. dev. of 7 runs, 10 loops each)\n"
     ]
    }
   ],
   "source": [
    "def revert(dct: tp.Mapping[str, str]) -> dict[str, list[str]]:\n",
    "    res: dict[str, list[str]] = {}\n",
    "    for k, v in dct.items():\n",
    "        if v in res:\n",
    "            res[v] += [k]\n",
    "        else:\n",
    "            res[v] = [k]\n",
    "    return res\n",
    "\n",
    "a = {str(i): \"1\" for i in range(1005000)}\n",
    "%timeit revert(a)"
   ]
  },
  {
   "cell_type": "code",
   "execution_count": 4,
   "id": "201d736d",
   "metadata": {
    "cell_style": "split"
   },
   "outputs": [
    {
     "name": "stdout",
     "output_type": "stream",
     "text": [
      "79 ms ± 342 µs per loop (mean ± std. dev. of 7 runs, 10 loops each)\n"
     ]
    }
   ],
   "source": [
    "def revert(dct: tp.Mapping[str, str]) -> dict[str, list[str]]:\n",
    "    res: dict[str, list[str]] = {}\n",
    "    for k, v in dct.items():\n",
    "        if v in res:\n",
    "            res[v].append(k)\n",
    "        else:\n",
    "            res[v] = [k]\n",
    "    return res\n",
    "\n",
    "a = {str(i): \"1\" for i in range(1005000)}\n",
    "%timeit revert(a)"
   ]
  },
  {
   "cell_type": "markdown",
   "id": "81334fb0",
   "metadata": {
    "slideshow": {
     "slide_type": "slide"
    }
   },
   "source": [
    "### 1. reverse_dict  → Каст к дикту?"
   ]
  },
  {
   "cell_type": "code",
   "execution_count": 5,
   "id": "a31c82fa",
   "metadata": {
    "cell_style": "split"
   },
   "outputs": [
    {
     "name": "stdout",
     "output_type": "stream",
     "text": [
      "64.4 ms ± 263 µs per loop (mean ± std. dev. of 7 runs, 10 loops each)\n"
     ]
    }
   ],
   "source": [
    "def revert(dct: tp.Mapping[str, str]) -> dict[str, list[str]]:\n",
    "    result: dict[str, list[str]] = defaultdict(list[str])\n",
    "    for key, value in dct.items():\n",
    "        result[value].append(key)\n",
    "    return dict(result)\n",
    "\n",
    "a = {str(i): \"1\" for i in range(1005000)}\n",
    "%timeit revert(a)"
   ]
  },
  {
   "cell_type": "code",
   "execution_count": 6,
   "id": "6ae44a43",
   "metadata": {
    "cell_style": "split"
   },
   "outputs": [
    {
     "name": "stdout",
     "output_type": "stream",
     "text": [
      "64.7 ms ± 393 µs per loop (mean ± std. dev. of 7 runs, 10 loops each)\n"
     ]
    }
   ],
   "source": [
    "def revert(dct: tp.Mapping[str, str]) -> dict[str, list[str]]:\n",
    "    result: dict[str, list[str]] = defaultdict(list[str])\n",
    "    for key, value in dct.items():\n",
    "        result[value].append(key)\n",
    "    return result\n",
    "\n",
    "a = {str(i): \"1\" for i in range(1005000)}\n",
    "%timeit revert(a)"
   ]
  },
  {
   "cell_type": "markdown",
   "id": "ecad1f83",
   "metadata": {},
   "source": [
    "### 1. reverse_dict  → try/except"
   ]
  },
  {
   "cell_type": "code",
   "execution_count": 7,
   "id": "dd937b57",
   "metadata": {},
   "outputs": [],
   "source": [
    "def revert(dct: tp.Mapping[str, str]) -> dict[str, list[str]]:\n",
    "    result: dict[str, list[str]] = {}\n",
    "    for k, v in dct.items():\n",
    "        try:\n",
    "            result.get(v)\n",
    "            result[v].append(k)\n",
    "        except KeyError:\n",
    "            result.update({v: [k]})\n",
    "    return result"
   ]
  },
  {
   "cell_type": "code",
   "execution_count": 8,
   "id": "68d46cd9",
   "metadata": {},
   "outputs": [
    {
     "name": "stdout",
     "output_type": "stream",
     "text": [
      "107 ms ± 404 µs per loop (mean ± std. dev. of 7 runs, 10 loops each)\n"
     ]
    }
   ],
   "source": [
    "a = {str(i): \"1\" for i in range(1005000)}\n",
    "%timeit revert(a)  # что замедляет?"
   ]
  },
  {
   "cell_type": "markdown",
   "id": "5342bc78",
   "metadata": {
    "slideshow": {
     "slide_type": "slide"
    }
   },
   "source": [
    "### 1. reverse_dict  → Найдите ошибку"
   ]
  },
  {
   "cell_type": "code",
   "execution_count": 9,
   "id": "127fab31",
   "metadata": {
    "cell_style": "center"
   },
   "outputs": [],
   "source": [
    "def revert(dct: tp.Mapping[str, str]) -> dict[str, list[str]]:\n",
    "    answer: dict[str, list[str]] = dict()\n",
    "    for key, value in dct.items():\n",
    "        if value in answer:\n",
    "            old_value = answer[value]\n",
    "            new_value = old_value + list(key)\n",
    "            answer[value] = new_value\n",
    "        else:\n",
    "            new_value = list([key])\n",
    "            answer[value] = new_value\n",
    "    return answer"
   ]
  },
  {
   "cell_type": "code",
   "execution_count": 10,
   "id": "b8718eb7",
   "metadata": {
    "run_control": {
     "marked": false
    }
   },
   "outputs": [],
   "source": [
    "def revert(dct: tp.Mapping[str, str]) -> dict[str, list[str]]:\n",
    "    dct_ans: dict[str, list[str]] = {}\n",
    "    for k, v in dct.items():\n",
    "        if dct_ans.get(v):\n",
    "            dct_ans[v].append(k)\n",
    "        else:\n",
    "            dct_ans[v] = [k]\n",
    "    return dct_ans"
   ]
  },
  {
   "cell_type": "markdown",
   "id": "0cb82e73",
   "metadata": {
    "slideshow": {
     "slide_type": "slide"
    }
   },
   "source": [
    "### 1. reverse_dict  → Альтернативный setdefault"
   ]
  },
  {
   "cell_type": "code",
   "execution_count": 11,
   "id": "18949f7b",
   "metadata": {
    "cell_style": "split"
   },
   "outputs": [
    {
     "name": "stdout",
     "output_type": "stream",
     "text": [
      "113 ms ± 415 µs per loop (mean ± std. dev. of 7 runs, 10 loops each)\n"
     ]
    }
   ],
   "source": [
    "def revert(dct: tp.Mapping[str, str]) -> tp.Dict[str, tp.List[str]]:\n",
    "    _new: dict[str, list[str]] = {}\n",
    "    for k, v in dct.items():\n",
    "        _new.setdefault(v, []).append(k)\n",
    "    return _new\n",
    "\n",
    "a = {str(i): \"1\" for i in range(1005000)}\n",
    "%timeit revert(a)"
   ]
  },
  {
   "cell_type": "markdown",
   "id": "2ea03db4",
   "metadata": {
    "slideshow": {
     "slide_type": "slide"
    }
   },
   "source": [
    "### 1. reverse_dict  → Усложненный код"
   ]
  },
  {
   "cell_type": "code",
   "execution_count": 12,
   "id": "339927f0",
   "metadata": {
    "cell_style": "split"
   },
   "outputs": [],
   "source": [
    "def revert(dct: tp.Mapping[str, str]) -> dict[str, list[str]]:\n",
    "    dct_out: dict[str, list[str]] = dict()\n",
    "    for pair in dct.keys():\n",
    "        if dct[pair] in dct_out.keys():\n",
    "            temp_list = copy.copy(dct_out[dct[pair]])\n",
    "            temp_list.append(pair)\n",
    "            dct_out[dct[pair]] = temp_list\n",
    "        else:\n",
    "            temp_list = [pair]\n",
    "            dct_out[dct[pair]] = temp_list\n",
    "    return dct_out"
   ]
  },
  {
   "cell_type": "code",
   "execution_count": 13,
   "id": "c681b738",
   "metadata": {
    "cell_style": "split"
   },
   "outputs": [],
   "source": [
    "def revert(dct: tp.Mapping[str, str]) -> dict[str, list[str]]:\n",
    "    reverse_dct: dict[str, list[str]] = {}\n",
    "    keys: list[str] = list(dct.keys())\n",
    "    for i in range(len(keys)):\n",
    "        if dct.get(keys[i]) not in reverse_dct and dct.get(keys[i]) is not None:\n",
    "            reverse_dct[str(dct.get(keys[i]))] = [keys[i]]\n",
    "        elif dct.get(keys[i]) and dct.get(keys[i]) is not None:\n",
    "            reverse_dct[str(dct.get(keys[i]))] = reverse_dct[str(dct.get(keys[i]))] + [keys[i]]\n",
    "        else:\n",
    "            reverse_dct[\"\"] = [keys[i]]\n",
    "    return reverse_dct"
   ]
  },
  {
   "cell_type": "markdown",
   "id": "d1afd00c",
   "metadata": {},
   "source": [
    "### 1. reverse_dict  → Хороший флекс, но..."
   ]
  },
  {
   "cell_type": "code",
   "execution_count": 14,
   "id": "08f1dfb4",
   "metadata": {},
   "outputs": [
    {
     "name": "stdout",
     "output_type": "stream",
     "text": [
      "60.3 ms ± 340 µs per loop (mean ± std. dev. of 7 runs, 10 loops each)\n"
     ]
    }
   ],
   "source": [
    "# smoke weed\n",
    "def revert(dct: tp.Mapping[str, str]) -> dict[str, list[str]]:\n",
    "    return {x: [y for y in dct if dct[y] == x] for x in dct.values()}\n",
    "# return {value: [key for key, val in dct.items() if val == value] for value in dct.values()}\n",
    "\n",
    "a = {str(i): \"1\" for i in range(1005)}  # 1000 times less\n",
    "%timeit revert(a)"
   ]
  },
  {
   "cell_type": "markdown",
   "id": "676c8b9b",
   "metadata": {
    "slideshow": {
     "slide_type": "slide"
    }
   },
   "source": [
    "### 2. min_to_drop "
   ]
  },
  {
   "cell_type": "code",
   "execution_count": 15,
   "id": "309078ab",
   "metadata": {},
   "outputs": [],
   "source": [
    "import typing as tp\n",
    "\n",
    "from collections import Counter\n",
    "\n",
    "def get_min_to_drop(seq: tp.Sequence[tp.Any]) -> int:\n",
    "    \"\"\"\n",
    "    :param seq: sequence of elements\n",
    "    :return: number of elements need to drop to leave equal elements\n",
    "    \"\"\"\n",
    "    return len(seq) - max(Counter(seq).values()) if seq else 0"
   ]
  },
  {
   "cell_type": "markdown",
   "id": "754d720c",
   "metadata": {},
   "source": [
    "### 2. min_to_drop → Поиск максимума руками"
   ]
  },
  {
   "cell_type": "code",
   "execution_count": 16,
   "id": "cceef919",
   "metadata": {},
   "outputs": [],
   "source": [
    "def get_min_to_drop(seq: tp.Sequence[tp.Any]) -> int:\n",
    "    cnt_max = 0\n",
    "    for el in seq:\n",
    "        cnt_max = max(cnt_max, seq.count(el))\n",
    "    return len(seq) - cnt_max"
   ]
  },
  {
   "cell_type": "markdown",
   "id": "4eb6ff0b",
   "metadata": {},
   "source": [
    "### 2. min_to_drop → Забыли про длину последовательности"
   ]
  },
  {
   "cell_type": "code",
   "execution_count": 17,
   "id": "f4adb831",
   "metadata": {},
   "outputs": [],
   "source": [
    "def get_min_to_drop(seq: tp.Sequence[tp.Any]) -> int:\n",
    "    seq_counter = Counter(seq)\n",
    "    return sum(seq_counter.values()) - max(seq_counter.values()) if len(seq) > 0 else 0"
   ]
  },
  {
   "cell_type": "markdown",
   "id": "a1d82168",
   "metadata": {
    "slideshow": {
     "slide_type": "slide"
    }
   },
   "source": [
    "### 2. min_to_drop  → Касты"
   ]
  },
  {
   "cell_type": "code",
   "execution_count": 18,
   "id": "f048c9a3",
   "metadata": {
    "cell_style": "split"
   },
   "outputs": [],
   "source": [
    "def get_min_to_drop(seq: tp.Sequence[tp.Any]) -> int:\n",
    "    if not seq:\n",
    "        return 0\n",
    "    counted_elements = dict(Counter(seq))\n",
    "    max_elem = max(counted_elements.values())\n",
    "    return seq.__len__() - max_elem"
   ]
  },
  {
   "cell_type": "code",
   "execution_count": 19,
   "id": "4e10ffbf",
   "metadata": {},
   "outputs": [],
   "source": [
    "def get_min_to_drop(seq: tp.Sequence[tp.Any]) -> int:\n",
    "    answer = 0\n",
    "    cnt = Counter(seq)\n",
    "    n = list(cnt.values())\n",
    "    if seq:\n",
    "        n.remove(max(cnt.values()))  # \n",
    "        answer = sum(n)\n",
    "    return answer"
   ]
  },
  {
   "cell_type": "markdown",
   "id": "e6b77fc3",
   "metadata": {
    "slideshow": {
     "slide_type": "slide"
    }
   },
   "source": [
    "### 2. min_to_drop  → Counter как словарь"
   ]
  },
  {
   "cell_type": "code",
   "execution_count": 20,
   "id": "e7194d7d",
   "metadata": {},
   "outputs": [],
   "source": [
    "def get_min_to_drop(seq: tp.Sequence[tp.Any]) -> int:\n",
    "    if len(seq) == 0:\n",
    "        return 0\n",
    "    cnt: dict[tp.Any, int] = Counter()\n",
    "    for el in seq:\n",
    "        cnt[el] += 1\n",
    "    return len(seq) - max(cnt.values())"
   ]
  },
  {
   "cell_type": "markdown",
   "id": "c37cfcd1",
   "metadata": {
    "slideshow": {
     "slide_type": "slide"
    }
   },
   "source": [
    "### 2. min_to_drop  → <a href=\"https://github.com/python/cpython/blob/3.10/Lib/collections/__init__.py#L588\">most_common</a>\n"
   ]
  },
  {
   "cell_type": "code",
   "execution_count": 21,
   "id": "f69a7b5c",
   "metadata": {
    "cell_style": "split"
   },
   "outputs": [
    {
     "name": "stdout",
     "output_type": "stream",
     "text": [
      "135 ms ± 445 µs per loop (mean ± std. dev. of 7 runs, 10 loops each)\n"
     ]
    }
   ],
   "source": [
    "def get_min_to_drop(seq: tp.Sequence[tp.Any]) -> int:\n",
    "    if len(seq) == 0:\n",
    "        return 0\n",
    "\n",
    "    return len(seq) - Counter(seq).most_common(1)[0][1]\n",
    "\n",
    "%timeit get_min_to_drop(range(1005000))"
   ]
  },
  {
   "cell_type": "code",
   "execution_count": 22,
   "id": "5ac5fc89",
   "metadata": {
    "cell_style": "split"
   },
   "outputs": [
    {
     "name": "stdout",
     "output_type": "stream",
     "text": [
      "151 ms ± 602 µs per loop (mean ± std. dev. of 7 runs, 10 loops each)\n"
     ]
    }
   ],
   "source": [
    "def get_min_to_drop(seq: tp.Sequence[tp.Any]) -> int:\n",
    "    if not seq:\n",
    "        return 0\n",
    "\n",
    "    return len(seq) - Counter(seq).most_common()[0][1]\n",
    "\n",
    "%timeit get_min_to_drop(range(1005000))"
   ]
  },
  {
   "cell_type": "markdown",
   "id": "6c6529b2",
   "metadata": {
    "slideshow": {
     "slide_type": "slide"
    }
   },
   "source": [
    "### 3. comprehensions  → Лишний конструктор"
   ]
  },
  {
   "cell_type": "code",
   "execution_count": 23,
   "id": "d3d533d0",
   "metadata": {
    "cell_style": "split"
   },
   "outputs": [],
   "source": [
    "def get_unique_page_ids(records):\n",
    "    # return set(cell['PageID'] for cell in records) # Why not working\n",
    "    return {cell['PageID'] for cell in records}"
   ]
  },
  {
   "cell_type": "markdown",
   "id": "eb0bf488",
   "metadata": {
    "slideshow": {
     "slide_type": "slide"
    }
   },
   "source": [
    "### 3. comprehensions  → Лишняя индексация"
   ]
  },
  {
   "cell_type": "code",
   "execution_count": 24,
   "id": "a51e6c1d",
   "metadata": {
    "cell_style": "split"
   },
   "outputs": [],
   "source": [
    "def get_unique_page_ids(records):\n",
    "    ans = {records[i][\"PageID\"] for i in range(len(records))}\n",
    "    return ans"
   ]
  },
  {
   "cell_type": "code",
   "execution_count": 25,
   "id": "758f61e8",
   "metadata": {
    "cell_style": "split"
   },
   "outputs": [],
   "source": [
    "def get_unique_page_ids(records):\n",
    "    return {event['PageID'] for event in records}"
   ]
  },
  {
   "cell_type": "markdown",
   "id": "1f969a8f",
   "metadata": {
    "slideshow": {
     "slide_type": "slide"
    }
   },
   "source": [
    "### 3. comprehensions  → Есть не только items"
   ]
  },
  {
   "cell_type": "code",
   "execution_count": 26,
   "id": "51f51ebb",
   "metadata": {
    "cell_style": "split"
   },
   "outputs": [],
   "source": [
    "def get_keys_if_key_in_keys(r, keys):\n",
    "    return {key for key, value in r.items() if key in keys}"
   ]
  },
  {
   "cell_type": "code",
   "execution_count": 27,
   "id": "ed787642",
   "metadata": {
    "cell_style": "split"
   },
   "outputs": [],
   "source": [
    "def get_keys_if_key_in_keys(r, keys):\n",
    "    return {elem for elem in r if elem in keys}"
   ]
  },
  {
   "cell_type": "markdown",
   "id": "c83ec8e5",
   "metadata": {
    "slideshow": {
     "slide_type": "slide"
    }
   },
   "source": [
    "### 4. traverse_dictionary →  etalon 1"
   ]
  },
  {
   "cell_type": "code",
   "execution_count": 28,
   "id": "fd3f6f6a",
   "metadata": {
    "slideshow": {
     "slide_type": "-"
    }
   },
   "outputs": [],
   "source": [
    "import typing as tp\n",
    "\n",
    "\n",
    "def traverse_dictionary_immutable(\n",
    "        dct: tp.Mapping[str, tp.Any],\n",
    "        prefix: str = \"\") -> list[tuple[str, int]]:\n",
    "    \"\"\"\n",
    "    :param dct: dictionary of undefined depth with integers or other dicts as leaves with same properties\n",
    "    :param prefix: basic prefix for key\n",
    "    :return: list with pairs: (full key from root to leaf joined by \".\", value)\n",
    "    \"\"\"\n",
    "    result: list[tuple[str, int]] = []\n",
    "\n",
    "    for key, value in dct.items():\n",
    "        full_key = f'{prefix}.{key}' if prefix else key\n",
    "        if type(value) == dict:\n",
    "            result += traverse_dictionary_immutable(value, full_key)\n",
    "        else:\n",
    "            result.append((full_key, value))\n",
    "\n",
    "    return result"
   ]
  },
  {
   "cell_type": "markdown",
   "id": "448931b1",
   "metadata": {
    "slideshow": {
     "slide_type": "slide"
    }
   },
   "source": [
    "### 4. traverse_dictionary →  etalon 2"
   ]
  },
  {
   "cell_type": "code",
   "execution_count": 29,
   "id": "44a0705d",
   "metadata": {
    "slideshow": {
     "slide_type": "-"
    }
   },
   "outputs": [],
   "source": [
    "def traverse_dictionary_mutable(\n",
    "        dct: tp.Mapping[str, tp.Any],\n",
    "        result: list[tuple[str, int]],\n",
    "        prefix: str = \"\") -> None:\n",
    "    \"\"\"\n",
    "    :param dct: dictionary of undefined depth with integers or other dicts as leaves with same properties\n",
    "    :param result: list with pairs: (full key from root to leaf joined by \".\", value)\n",
    "    :param prefix: basic prefix for key\n",
    "    :return: None\n",
    "    \"\"\"\n",
    "    for key, value in dct.items():\n",
    "        full_key = f'{prefix}.{key}' if prefix else key\n",
    "        if isinstance(value, dict):\n",
    "            traverse_dictionary_mutable(value, result, full_key)\n",
    "        else:\n",
    "            result.append((full_key, value))"
   ]
  },
  {
   "cell_type": "markdown",
   "id": "4d94892f",
   "metadata": {
    "slideshow": {
     "slide_type": "slide"
    }
   },
   "source": [
    "### 4. traverse_dictionary →  etalon 3"
   ]
  },
  {
   "cell_type": "code",
   "execution_count": 30,
   "id": "2a9bc2d0",
   "metadata": {
    "slideshow": {
     "slide_type": "-"
    }
   },
   "outputs": [],
   "source": [
    "# Bfs version\n",
    "def traverse_dictionary_iterative(\n",
    "        dct: tp.Mapping[str, tp.Any]\n",
    "        ) -> list[tuple[str, int]]:\n",
    "    \"\"\"\n",
    "    :param dct: dictionary of undefined depth with integers or other dicts as leaves with same properties\n",
    "    :return: list with pairs: (full key from root to leaf joined by \".\", value)\n",
    "    \"\"\"\n",
    "    stack = [(dct, '')]\n",
    "    result = []\n",
    "\n",
    "    while stack:\n",
    "        dct, prefix = stack.pop()\n",
    "        for key, value in dct.items():\n",
    "            full_key = f'{prefix}.{key}' if prefix else key\n",
    "            if isinstance(value, dict):\n",
    "                stack.append((value, full_key))\n",
    "            else:\n",
    "                result.append((full_key, value))\n",
    "\n",
    "    return result"
   ]
  },
  {
   "cell_type": "markdown",
   "id": "547f09d2",
   "metadata": {
    "slideshow": {
     "slide_type": "slide"
    }
   },
   "source": [
    "### 4. traverse_dictionary →  Потерянная ветка "
   ]
  },
  {
   "cell_type": "code",
   "execution_count": 31,
   "id": "7da7e222",
   "metadata": {},
   "outputs": [],
   "source": [
    "def traverse_dictionary_mutable(\n",
    "        dct: tp.Mapping[str, tp.Any],\n",
    "        result: list[tuple[str, int]],\n",
    "        prefix: str = \"\") -> None:\n",
    "\n",
    "    for key, value in dct.items():\n",
    "        new_prefix = f\"{prefix}.{key}\" if prefix else key\n",
    "        if type(value) == dict:\n",
    "            result += traverse_dictionary_immutable(value, new_prefix)\n",
    "        elif type(value) == int:\n",
    "            result.append((new_prefix, value))"
   ]
  },
  {
   "cell_type": "markdown",
   "id": "276b621f",
   "metadata": {
    "slideshow": {
     "slide_type": "slide"
    }
   },
   "source": [
    "### 4. traverse_dictionary →  Лень писать функцию"
   ]
  },
  {
   "cell_type": "code",
   "execution_count": 32,
   "id": "8e042606",
   "metadata": {},
   "outputs": [],
   "source": [
    "def traverse_dictionary_immutable(\n",
    "        dct: tp.Mapping[str, tp.Any],\n",
    "        prefix: str = \"\") -> list[tuple[str, int]]:\n",
    "    result: tp.List[tp.Tuple[str, int]] = []\n",
    "    traverse_dictionary_mutable(dct, result, prefix)\n",
    "    return result"
   ]
  },
  {
   "cell_type": "markdown",
   "id": "aef90eda",
   "metadata": {
    "slideshow": {
     "slide_type": "slide"
    }
   },
   "source": [
    "### 5. merge_lists_2 → etalon"
   ]
  },
  {
   "cell_type": "code",
   "execution_count": 33,
   "id": "b833882a",
   "metadata": {},
   "outputs": [],
   "source": [
    "import heapq\n",
    "import typing as tp\n",
    "\n",
    "\n",
    "def merge(seq: tp.Sequence[tp.Sequence[int]]) -> list[int]:\n",
    "    \"\"\"\n",
    "    :param seq: sequence of sorted sequences\n",
    "    :return: merged sorted list\n",
    "    \"\"\"\n",
    "    merged_list = []  # heapify можно не делать, если все операции через heapq\n",
    "\n",
    "    heap: list[tuple[int, int, int]] = []\n",
    "\n",
    "    for i, subseq in enumerate(seq):  # многие вместо i клали 2 элемента и отдельный список pointer'ов\n",
    "        if subseq:\n",
    "            ind = 0\n",
    "            value = subseq[ind]\n",
    "            heapq.heappush(heap, (value, i, ind))\n",
    "\n",
    "    while heap:\n",
    "        value, i, ind = heapq.heappop(heap)\n",
    "        merged_list.append(value)\n",
    "        subseq = seq[i]\n",
    "\n",
    "        if ind != len(subseq) - 1:\n",
    "            ind += 1\n",
    "            new_value = subseq[ind]\n",
    "            heapq.heappush(heap, (new_value, i, ind))\n",
    "\n",
    "    return merged_list\n"
   ]
  },
  {
   "cell_type": "markdown",
   "id": "a3d2f531",
   "metadata": {
    "slideshow": {
     "slide_type": "slide"
    }
   },
   "source": [
    "### 5. merge_lists_2 → Альтернатива heapq.merge"
   ]
  },
  {
   "cell_type": "code",
   "execution_count": 34,
   "id": "ad9c5aed",
   "metadata": {},
   "outputs": [],
   "source": [
    "import typing as tp\n",
    "import heapq\n",
    "\n",
    "\n",
    "def merge(seq: tp.Sequence[tp.Sequence[int]]) -> tp.List[int]:\n",
    "    \"\"\"\n",
    "    :param seq: sequence of sorted sequences\n",
    "    :return: merged sorted list\n",
    "    \"\"\"\n",
    "    return list(heapq.merge(*seq))"
   ]
  },
  {
   "cell_type": "markdown",
   "id": "e7a6484a",
   "metadata": {
    "slideshow": {
     "slide_type": "slide"
    }
   },
   "source": [
    "### 5. merge_lists_2 → Потеря преимущества heapq"
   ]
  },
  {
   "cell_type": "code",
   "execution_count": 35,
   "id": "d9657547",
   "metadata": {},
   "outputs": [],
   "source": [
    "def merge(seq: tp.Sequence[tp.Sequence[int]]) -> list[int]:\n",
    "    \"\"\"\n",
    "    :param seq: sequence of sorted sequences\n",
    "    :return: merged sorted list\n",
    "    \"\"\"\n",
    "    tree: list[int] = []\n",
    "    for arr in seq:\n",
    "        for elem in arr:\n",
    "            heapq.heappush(tree, elem)\n",
    "            print(tree)\n",
    "    return heapq.nsmallest(len(tree), tree)"
   ]
  },
  {
   "cell_type": "markdown",
   "id": "311d75d1",
   "metadata": {},
   "source": [
    "### 5. merge_lists_2 → Приз зрительских симпатий"
   ]
  },
  {
   "cell_type": "code",
   "execution_count": 36,
   "id": "90a2f5d2",
   "metadata": {},
   "outputs": [],
   "source": [
    "def mergee(*iterables) -> tp.Generator[tp.Any, tp.Any, tp.Any]:  # type: ignore\n",
    "    h: list[tp.Any] = []\n",
    "    h_append = h.append\n",
    "    _heapify = heapq.heapify\n",
    "    _heappop = heapq.heappop\n",
    "    _heapreplace = heapq.heapreplace\n",
    "    direction = 1\n",
    "    for order, it in enumerate(map(iter, iterables)):\n",
    "        try:\n",
    "            nextt = it.__next__\n",
    "            h_append([nextt(), order * direction, nextt])\n",
    "        except StopIteration:\n",
    "            pass\n",
    "    _heapify(h)\n",
    "    while len(h) > 1:\n",
    "        try:\n",
    "            while True:\n",
    "                value, order, nextt = s = h[0]\n",
    "                yield value\n",
    "                s[0] = nextt()\n",
    "                _heapreplace(h, s)\n",
    "        except StopIteration:\n",
    "            _heappop(h)\n",
    "    if h:\n",
    "        value, order, nextt = h[0]\n",
    "        yield value\n",
    "        yield from nextt.__self__  # type: ignore\n",
    "    return\n",
    "\n",
    "\n",
    "def merge(seq: tp.Sequence[tp.Sequence[int]]) -> list[int]:\n",
    "    \"\"\"\n",
    "    :param seq: sequence of sorted sequences\n",
    "    :return: merged sorted list\n",
    "    \"\"\"\n",
    "    resultt: list[int] = []\n",
    "    heapq.heapify(resultt)\n",
    "    result = list(mergee(seq))\n",
    "    res: list[int] = []\n",
    "    for i in result:\n",
    "        res = res + i\n",
    "    if len(res) > 2:\n",
    "        res = [i for i in range(0, len(res))]\n",
    "    return res"
   ]
  }
 ],
 "metadata": {
  "celltoolbar": "Slideshow",
  "kernelspec": {
   "display_name": "Python 3 (ipykernel)",
   "language": "python",
   "name": "python3"
  },
  "language_info": {
   "codemirror_mode": {
    "name": "ipython",
    "version": 3
   },
   "file_extension": ".py",
   "mimetype": "text/x-python",
   "name": "python",
   "nbconvert_exporter": "python",
   "pygments_lexer": "ipython3",
   "version": "3.10.7"
  },
  "rise": {
   "enable_chalkboard": true,
   "footer": "<p style=\"margin: 5px; color: #a0a0a0\">YSDA Python Course</p>",
   "scroll": true,
   "start_slideshow_at": "selected",
   "theme": "serif"
  },
  "toc": {
   "base_numbering": 1,
   "nav_menu": {},
   "number_sections": false,
   "sideBar": true,
   "skip_h1_title": false,
   "title_cell": "Table of Contents",
   "title_sidebar": "Contents",
   "toc_cell": false,
   "toc_position": {},
   "toc_section_display": true,
   "toc_window_display": false
  },
  "varInspector": {
   "cols": {
    "lenName": 16,
    "lenType": 16,
    "lenVar": 40
   },
   "kernels_config": {
    "python": {
     "delete_cmd_postfix": "",
     "delete_cmd_prefix": "del ",
     "library": "var_list.py",
     "varRefreshCmd": "print(var_dic_list())"
    },
    "r": {
     "delete_cmd_postfix": ") ",
     "delete_cmd_prefix": "rm(",
     "library": "var_list.r",
     "varRefreshCmd": "cat(var_dic_list()) "
    }
   },
   "types_to_exclude": [
    "module",
    "function",
    "builtin_function_or_method",
    "instance",
    "_Feature"
   ],
   "window_display": false
  }
 },
 "nbformat": 4,
 "nbformat_minor": 5
}
