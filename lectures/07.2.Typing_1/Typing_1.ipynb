{
 "cells": [
  {
   "cell_type": "markdown",
   "metadata": {
    "pycharm": {
     "name": "#%% md\n"
    },
    "slideshow": {
     "slide_type": "slide"
    }
   },
   "source": [
    "<center>\n",
    "    <img src=\"https://upload.wikimedia.org/wikipedia/commons/a/a8/%D0%9B%D0%9E%D0%93%D0%9E_%D0%A8%D0%90%D0%94.png\" width=500px/>\n",
    "    <font>Python 2022</font><br/>\n",
    "    <br/>\n",
    "    <br/>\n",
    "    <b style=\"font-size: 2em\">Типы - Введение</b><br/>\n",
    "    <br/>\n",
    "    <font>Никита Бондарцев</font><br/>\n",
    "</center>"
   ]
  },
  {
   "cell_type": "markdown",
   "metadata": {
    "pycharm": {
     "name": "#%% md\n"
    },
    "slideshow": {
     "slide_type": "slide"
    }
   },
   "source": [
    "### static typing vs dynamic typing"
   ]
  },
  {
   "cell_type": "markdown",
   "metadata": {
    "slideshow": {
     "slide_type": "-"
    }
   },
   "source": [
    "<center><img src=\"images/pills.jpg\" width=700px/></center>"
   ]
  },
  {
   "cell_type": "markdown",
   "metadata": {
    "cell_style": "split",
    "pycharm": {
     "name": "#%% md\n"
    },
    "slideshow": {
     "slide_type": "slide"
    }
   },
   "source": [
    "### Dynamic typing\n",
    "\n",
    "Проверяется тип аргумента **в Runtime**. Тип ассоциирован с объектом\n"
   ]
  },
  {
   "cell_type": "code",
   "execution_count": 1,
   "metadata": {
    "cell_style": "split",
    "pycharm": {
     "name": "#%%\n"
    },
    "slideshow": {
     "slide_type": "-"
    }
   },
   "outputs": [
    {
     "name": "stdout",
     "output_type": "stream",
     "text": [
      "Runtime\n"
     ]
    },
    {
     "ename": "AttributeError",
     "evalue": "'str' object has no attribute 'some_func'",
     "output_type": "error",
     "traceback": [
      "\u001b[0;31m---------------------------------------------------------------------------\u001b[0m",
      "\u001b[0;31mAttributeError\u001b[0m                            Traceback (most recent call last)",
      "Cell \u001b[0;32mIn [1], line 10\u001b[0m\n\u001b[1;32m      7\u001b[0m     \u001b[38;5;28mprint\u001b[39m(\u001b[38;5;124m\"\u001b[39m\u001b[38;5;124mRuntime\u001b[39m\u001b[38;5;124m\"\u001b[39m)\n\u001b[1;32m      8\u001b[0m     f(\u001b[38;5;124m\"\u001b[39m\u001b[38;5;124mhello\u001b[39m\u001b[38;5;124m\"\u001b[39m)\n\u001b[0;32m---> 10\u001b[0m \u001b[43mg\u001b[49m\u001b[43m(\u001b[49m\u001b[43m)\u001b[49m\n",
      "Cell \u001b[0;32mIn [1], line 8\u001b[0m, in \u001b[0;36mg\u001b[0;34m()\u001b[0m\n\u001b[1;32m      6\u001b[0m \u001b[38;5;28;01mdef\u001b[39;00m \u001b[38;5;21mg\u001b[39m() \u001b[38;5;241m-\u001b[39m\u001b[38;5;241m>\u001b[39m \u001b[38;5;28;01mNone\u001b[39;00m:\n\u001b[1;32m      7\u001b[0m     \u001b[38;5;28mprint\u001b[39m(\u001b[38;5;124m\"\u001b[39m\u001b[38;5;124mRuntime\u001b[39m\u001b[38;5;124m\"\u001b[39m)\n\u001b[0;32m----> 8\u001b[0m     \u001b[43mf\u001b[49m\u001b[43m(\u001b[49m\u001b[38;5;124;43m\"\u001b[39;49m\u001b[38;5;124;43mhello\u001b[39;49m\u001b[38;5;124;43m\"\u001b[39;49m\u001b[43m)\u001b[49m\n",
      "Cell \u001b[0;32mIn [1], line 4\u001b[0m, in \u001b[0;36mf\u001b[0;34m(a)\u001b[0m\n\u001b[1;32m      2\u001b[0m \u001b[38;5;28;01mdef\u001b[39;00m \u001b[38;5;21mf\u001b[39m(a: \u001b[38;5;28mint\u001b[39m) \u001b[38;5;241m-\u001b[39m\u001b[38;5;241m>\u001b[39m \u001b[38;5;28;01mNone\u001b[39;00m:\n\u001b[1;32m      3\u001b[0m     \u001b[38;5;66;03m# print(a + 10)  # Throws TypeError\u001b[39;00m\n\u001b[0;32m----> 4\u001b[0m     \u001b[43ma\u001b[49m\u001b[38;5;241;43m.\u001b[39;49m\u001b[43msome_func\u001b[49m()\n",
      "\u001b[0;31mAttributeError\u001b[0m: 'str' object has no attribute 'some_func'"
     ]
    }
   ],
   "source": [
    "### Dynamic typing\n",
    "def f(a: int) -> None:\n",
    "    # print(a + 10)  # Throws TypeError\n",
    "    a.some_func()  # Throws AttributeError\n",
    "\n",
    "def g() -> None:\n",
    "    print(\"Runtime\")\n",
    "    f(\"hello\")\n",
    "\n",
    "g()"
   ]
  },
  {
   "cell_type": "markdown",
   "metadata": {
    "cell_style": "split",
    "pycharm": {
     "name": "#%% md\n"
    },
    "slideshow": {
     "slide_type": "slide"
    }
   },
   "source": [
    "### Static typing\n",
    "\n",
    "\n",
    "Проверяется тип аргумента **до Runtime**. Тип ассоциирован с переменной\n",
    "\n",
    "\n"
   ]
  },
  {
   "cell_type": "code",
   "execution_count": 2,
   "metadata": {
    "cell_style": "split",
    "collapsed": true,
    "pycharm": {
     "name": "#%%\n"
    },
    "slideshow": {
     "slide_type": "-"
    }
   },
   "outputs": [
    {
     "name": "stdout",
     "output_type": "stream",
     "text": [
      "<string>:6: error: \"int\" has no attribute \"some_func\"\n",
      "<string>:10: error: Missing positional arguments \"b\", \"c\" in call to \"f\"\n",
      "<string>:10: error: Argument 1 to \"f\" has incompatible type \"str\"; expected \"int\"\n",
      "Found 3 errors in 1 file (checked 1 source file)\n",
      "\n"
     ]
    }
   ],
   "source": [
    "%%typecheck\n",
    "\n",
    "### Static typing\n",
    "def f(a: int, b, c) -> None:\n",
    "    print(a + 10)\n",
    "    a.some_func()   # Mypy error\n",
    "\n",
    "def g() -> None:\n",
    "    print(\"Runtime\")\n",
    "    f(\"hello\")      # Mypy error"
   ]
  },
  {
   "cell_type": "markdown",
   "metadata": {
    "pycharm": {
     "name": "#%% md\n"
    },
    "slideshow": {
     "slide_type": "slide"
    }
   },
   "source": [
    "### Плюсы static/dynamic типизации"
   ]
  },
  {
   "cell_type": "markdown",
   "metadata": {
    "pycharm": {
     "name": "#%% md\n"
    },
    "slideshow": {
     "slide_type": "-"
    }
   },
   "source": [
    "Static typing:\n",
    "* **Видим проблему в месте вызова**, а не где-то в недрах\n",
    "* Базово **документирует функцию** улучшая читабельность\n",
    "* Помогает **структурировать код** (понять что на входе страшный динозавр и стоит зарефакторить)\n",
    "* (не питон) Уменьшает нагрузку на runtime, так как **типы заранее проверяются** и можно эффективнее хранить значения\n",
    "\n",
    "Dynamic typing:\n",
    "* Можно не тратить **время на аннотацию типов**\n",
    "* Библиотеки могут **оперировать любым множеством входов** и принимать решение про тип в рантайме"
   ]
  },
  {
   "cell_type": "markdown",
   "metadata": {
    "pycharm": {
     "name": "#%% md\n"
    },
    "slideshow": {
     "slide_type": "slide"
    }
   },
   "source": [
    "It should also be emphasized that **Python will remain a dynamically typed language, and the authors have no desire to ever make type hints mandatory, even by convention.**\n",
    "\n",
    "Guido van Rossum, PEP 484"
   ]
  },
  {
   "cell_type": "markdown",
   "metadata": {
    "slideshow": {
     "slide_type": "fragment"
    }
   },
   "source": [
    "<center><img src=\"images/static_code_analysis.jpg\" width=700px/></center>"
   ]
  },
  {
   "cell_type": "markdown",
   "metadata": {
    "pycharm": {
     "name": "#%% md\n"
    },
    "slideshow": {
     "slide_type": "slide"
    }
   },
   "source": [
    "### Отлично, убедили, хочу тайпхинты. Но как?"
   ]
  },
  {
   "cell_type": "markdown",
   "metadata": {
    "slideshow": {
     "slide_type": "-"
    }
   },
   "source": [
    "<center><img src=\"images/awakening.jpg\" width=700px/></center>"
   ]
  },
  {
   "cell_type": "markdown",
   "metadata": {
    "slideshow": {
     "slide_type": "slide"
    }
   },
   "source": [
    "#### Типизации подлежат:"
   ]
  },
  {
   "cell_type": "markdown",
   "metadata": {
    "slideshow": {
     "slide_type": "-"
    }
   },
   "source": [
    "- аргументы функции/метода\n",
    "- возвращаемые значения функции/метода\n",
    "- переменные/атрибуты*\n",
    "\n",
    "\\* но достаточно часто типы локальных переменных могут быть выведены из кода"
   ]
  },
  {
   "cell_type": "markdown",
   "metadata": {
    "slideshow": {
     "slide_type": "-"
    }
   },
   "source": [
    "#### В качестве тайпхинтов можно использовать"
   ]
  },
  {
   "cell_type": "markdown",
   "metadata": {
    "pycharm": {
     "name": "#%% md\n"
    },
    "slideshow": {
     "slide_type": "-"
    }
   },
   "source": [
    "* встроенные классы (list[str], dict[str,int], int, float, etc)\n",
    "* пользовательские классы (class A, class B)\n",
    "* абстрактные базовые классы (collections.abc.Mapping, collections.abc.Sized)\n",
    "* типы из types/typing (types.FunctionType, typing.List[str], typing.Sequence[int])\n",
    "* None"
   ]
  },
  {
   "cell_type": "markdown",
   "metadata": {
    "pycharm": {
     "name": "#%% md\n"
    },
    "slideshow": {
     "slide_type": "slide"
    }
   },
   "source": [
    "### А можно не все-все типизировать? Gradual typing"
   ]
  },
  {
   "cell_type": "markdown",
   "metadata": {
    "pycharm": {
     "name": "#%% md\n"
    },
    "slideshow": {
     "slide_type": "-"
    }
   },
   "source": [
    "Концепция, которая позволяет части программы быть динамически типизирована, а части - статически. Но есть нюансы"
   ]
  },
  {
   "cell_type": "markdown",
   "metadata": {
    "slideshow": {
     "slide_type": "-"
    }
   },
   "source": [
    "<center><img src=\"images/merged_pill.jpg\" width=700px/></center>"
   ]
  },
  {
   "cell_type": "markdown",
   "metadata": {
    "slideshow": {
     "slide_type": "slide"
    }
   },
   "source": [
    "### Как программно узнать типы функции?\n",
    "\n",
    "(непонятно зачем это может понадобиться, но вот)"
   ]
  },
  {
   "cell_type": "markdown",
   "metadata": {
    "slideshow": {
     "slide_type": "-"
    }
   },
   "source": [
    "#### Читерим"
   ]
  },
  {
   "cell_type": "code",
   "execution_count": 3,
   "metadata": {
    "pycharm": {
     "name": "#%%\n"
    },
    "scrolled": false,
    "slideshow": {
     "slide_type": "-"
    }
   },
   "outputs": [
    {
     "data": {
      "text/plain": [
       "{'a': int, 'return': None}"
      ]
     },
     "execution_count": 3,
     "metadata": {},
     "output_type": "execute_result"
    }
   ],
   "source": [
    "def f(a: int) -> None:\n",
    "    pass\n",
    "\n",
    "f.__annotations__  # в какой-то из очередных релизов может сломаться"
   ]
  },
  {
   "cell_type": "markdown",
   "metadata": {
    "slideshow": {
     "slide_type": "-"
    }
   },
   "source": [
    "#### Как на самом деле надо"
   ]
  },
  {
   "cell_type": "code",
   "execution_count": 4,
   "metadata": {
    "pycharm": {
     "name": "#%%\n"
    },
    "slideshow": {
     "slide_type": "-"
    }
   },
   "outputs": [
    {
     "data": {
      "text/plain": [
       "{'a': int, 'return': NoneType}"
      ]
     },
     "execution_count": 4,
     "metadata": {},
     "output_type": "execute_result"
    }
   ],
   "source": [
    "import typing\n",
    "\n",
    "def f(a: int) -> None:\n",
    "    pass\n",
    "\n",
    "typing.get_type_hints(f)"
   ]
  },
  {
   "cell_type": "markdown",
   "metadata": {
    "slideshow": {
     "slide_type": "slide"
    }
   },
   "source": [
    "### Хорошо, тайпинги функций я сам задавал, я их знаю, а что переменные?"
   ]
  },
  {
   "cell_type": "code",
   "execution_count": 5,
   "metadata": {
    "scrolled": true,
    "slideshow": {
     "slide_type": "-"
    }
   },
   "outputs": [
    {
     "ename": "AttributeError",
     "evalue": "'list' object has no attribute '__annotations__'",
     "output_type": "error",
     "traceback": [
      "\u001b[0;31m---------------------------------------------------------------------------\u001b[0m",
      "\u001b[0;31mAttributeError\u001b[0m                            Traceback (most recent call last)",
      "Cell \u001b[0;32mIn [5], line 2\u001b[0m\n\u001b[1;32m      1\u001b[0m lst: \u001b[38;5;28mlist\u001b[39m[\u001b[38;5;28mint\u001b[39m] \u001b[38;5;241m=\u001b[39m [\u001b[38;5;241m1\u001b[39m, \u001b[38;5;241m2\u001b[39m, \u001b[38;5;241m3\u001b[39m]\n\u001b[0;32m----> 2\u001b[0m \u001b[43mlst\u001b[49m\u001b[38;5;241;43m.\u001b[39;49m\u001b[38;5;18;43m__annotations__\u001b[39;49m\n",
      "\u001b[0;31mAttributeError\u001b[0m: 'list' object has no attribute '__annotations__'"
     ]
    }
   ],
   "source": [
    "lst: list[int] = [1, 2, 3]\n",
    "lst.__annotations__"
   ]
  },
  {
   "cell_type": "code",
   "execution_count": 6,
   "metadata": {
    "slideshow": {
     "slide_type": "-"
    }
   },
   "outputs": [
    {
     "ename": "TypeError",
     "evalue": "[1, 2, 3] is not a module, class, method, or function.",
     "output_type": "error",
     "traceback": [
      "\u001b[0;31m---------------------------------------------------------------------------\u001b[0m",
      "\u001b[0;31mTypeError\u001b[0m                                 Traceback (most recent call last)",
      "Cell \u001b[0;32mIn [6], line 2\u001b[0m\n\u001b[1;32m      1\u001b[0m \u001b[38;5;28;01mimport\u001b[39;00m \u001b[38;5;21;01mtyping\u001b[39;00m\n\u001b[0;32m----> 2\u001b[0m \u001b[43mtyping\u001b[49m\u001b[38;5;241;43m.\u001b[39;49m\u001b[43mget_type_hints\u001b[49m\u001b[43m(\u001b[49m\u001b[43mlst\u001b[49m\u001b[43m)\u001b[49m\n",
      "File \u001b[0;32m~/.pyenv/versions/3.10.6/lib/python3.10/typing.py:1856\u001b[0m, in \u001b[0;36mget_type_hints\u001b[0;34m(obj, globalns, localns, include_extras)\u001b[0m\n\u001b[1;32m   1854\u001b[0m         \u001b[38;5;28;01mreturn\u001b[39;00m {}\n\u001b[1;32m   1855\u001b[0m     \u001b[38;5;28;01melse\u001b[39;00m:\n\u001b[0;32m-> 1856\u001b[0m         \u001b[38;5;28;01mraise\u001b[39;00m \u001b[38;5;167;01mTypeError\u001b[39;00m(\u001b[38;5;124m'\u001b[39m\u001b[38;5;132;01m{!r}\u001b[39;00m\u001b[38;5;124m is not a module, class, method, \u001b[39m\u001b[38;5;124m'\u001b[39m\n\u001b[1;32m   1857\u001b[0m                         \u001b[38;5;124m'\u001b[39m\u001b[38;5;124mor function.\u001b[39m\u001b[38;5;124m'\u001b[39m\u001b[38;5;241m.\u001b[39mformat(obj))\n\u001b[1;32m   1858\u001b[0m defaults \u001b[38;5;241m=\u001b[39m _get_defaults(obj)\n\u001b[1;32m   1859\u001b[0m hints \u001b[38;5;241m=\u001b[39m \u001b[38;5;28mdict\u001b[39m(hints)\n",
      "\u001b[0;31mTypeError\u001b[0m: [1, 2, 3] is not a module, class, method, or function."
     ]
    }
   ],
   "source": [
    "import typing\n",
    "typing.get_type_hints(lst)"
   ]
  },
  {
   "cell_type": "code",
   "execution_count": 7,
   "metadata": {
    "slideshow": {
     "slide_type": "-"
    }
   },
   "outputs": [
    {
     "name": "stdout",
     "output_type": "stream",
     "text": [
      "<string>:3: note: Revealed type is \"builtins.list[builtins.int]\"\n",
      "Success: no issues found in 1 source file\n",
      "\n"
     ]
    }
   ],
   "source": [
    "%%typecheck\n",
    "lst: list[int] = [1, 2, 3]\n",
    "reveal_type(lst)"
   ]
  },
  {
   "cell_type": "code",
   "execution_count": 8,
   "metadata": {
    "scrolled": true,
    "slideshow": {
     "slide_type": "-"
    }
   },
   "outputs": [
    {
     "ename": "NameError",
     "evalue": "name 'reveal_type' is not defined",
     "output_type": "error",
     "traceback": [
      "\u001b[0;31m---------------------------------------------------------------------------\u001b[0m",
      "\u001b[0;31mNameError\u001b[0m                                 Traceback (most recent call last)",
      "Cell \u001b[0;32mIn [8], line 2\u001b[0m\n\u001b[1;32m      1\u001b[0m \u001b[38;5;66;03m# но в рантайме так не сработает\u001b[39;00m\n\u001b[0;32m----> 2\u001b[0m \u001b[43mreveal_type\u001b[49m(lst)\n",
      "\u001b[0;31mNameError\u001b[0m: name 'reveal_type' is not defined"
     ]
    }
   ],
   "source": [
    "# но в рантайме так не сработает\n",
    "reveal_type(lst)"
   ]
  },
  {
   "cell_type": "code",
   "execution_count": 9,
   "metadata": {
    "slideshow": {
     "slide_type": "-"
    }
   },
   "outputs": [
    {
     "data": {
      "text/plain": [
       "list"
      ]
     },
     "execution_count": 9,
     "metadata": {},
     "output_type": "execute_result"
    }
   ],
   "source": [
    "type(lst)"
   ]
  },
  {
   "cell_type": "markdown",
   "metadata": {
    "pycharm": {
     "name": "#%% md\n"
    },
    "slideshow": {
     "slide_type": "slide"
    }
   },
   "source": [
    "### Как работает проверка типов?"
   ]
  },
  {
   "cell_type": "markdown",
   "metadata": {
    "pycharm": {
     "name": "#%% md\n"
    },
    "slideshow": {
     "slide_type": "-"
    }
   },
   "source": [
    "- типы проверяются не по реальному рантайм типу объекта, а по значению тайпхинта\n",
    "- когда происходит присвоение переменной/биндинг аргумента функции, mypy проверяет, что передан подтип типа переменной/параметра\n",
    "- если тип переменной не указан, тип переменной выводится по самому узкому возможному типу\n",
    "- когда объявляется класс-наследник, mypy проверяет что наследник, действительно, является подтипом родителя\n"
   ]
  },
  {
   "cell_type": "markdown",
   "metadata": {
    "pycharm": {
     "name": "#%% md\n"
    },
    "slideshow": {
     "slide_type": "-"
    }
   },
   "source": [
    "Определение подтипа:\n",
    "* ∀ A: A -> A\n",
    "* A -> B  =>  A.values ⊇ B.values\n",
    "* A -> B  =>  A.functions ⊆ B.functions\n",
    "\n",
    "\\* логика такова, что в переменную a типа А можно положить объект любого его подтипа, и код, предполагающий что `a` имеет тип `A`, не сломается\n"
   ]
  },
  {
   "cell_type": "markdown",
   "metadata": {
    "pycharm": {
     "name": "#%% md\n"
    },
    "slideshow": {
     "slide_type": "slide"
    }
   },
   "source": [
    "### Но как же Gradual typing?"
   ]
  },
  {
   "cell_type": "markdown",
   "metadata": {
    "pycharm": {
     "name": "#%% md\n"
    },
    "slideshow": {
     "slide_type": "-"
    }
   },
   "source": [
    "Если тип чего-либо не указан, то этому объекту автоматически присваивается специальный тип Any. Any имеет свойства, которые можно интерпретировать как то, что Any является подтипом любого типа\n",
    "\n",
    "* A -> B => A ~> B\n",
    "* ∀ A: Any ~> A\n",
    "* ∀ A: A ~> Any  \n"
   ]
  },
  {
   "cell_type": "markdown",
   "metadata": {
    "pycharm": {
     "name": "#%% md\n"
    },
    "slideshow": {
     "slide_type": "slide"
    }
   },
   "source": [
    "### Насколько плохо не указывать часть типов, ч1"
   ]
  },
  {
   "cell_type": "code",
   "execution_count": 10,
   "metadata": {
    "cell_style": "split",
    "collapsed": true,
    "pycharm": {
     "name": "#%%\n"
    },
    "slideshow": {
     "slide_type": "-"
    }
   },
   "outputs": [
    {
     "name": "stdout",
     "output_type": "stream",
     "text": [
      "<string>:4: note: Revealed type is \"builtins.int\"\n",
      "<string>:9: note: Revealed type is \"builtins.float\"\n",
      "<string>:10: error: Argument 1 to \"f\" has incompatible type \"float\"; expected \"int\"\n",
      "Found 1 error in 1 file (checked 1 source file)\n",
      "\n"
     ]
    }
   ],
   "source": [
    "%%typecheck\n",
    "# Задаем все типы\n",
    "def f(a: int) -> None:\n",
    "    reveal_type(a)\n",
    "    print(a << 10)\n",
    "\n",
    "def g() -> None:\n",
    "    b = 1.0             \n",
    "    reveal_type(b)\n",
    "    f(b)"
   ]
  },
  {
   "cell_type": "code",
   "execution_count": 11,
   "metadata": {
    "cell_style": "split",
    "collapsed": true,
    "pycharm": {
     "name": "#%%\n"
    },
    "slideshow": {
     "slide_type": "-"
    }
   },
   "outputs": [
    {
     "name": "stdout",
     "output_type": "stream",
     "text": [
      "<string>:5: note: Revealed type is \"Any\"\n",
      "<string>:5: note: 'reveal_type' always outputs 'Any' in unchecked functions\n",
      "<string>:6: note: Revealed type is \"Any\"\n",
      "<string>:6: note: 'reveal_type' always outputs 'Any' in unchecked functions\n",
      "<string>:11: note: Revealed type is \"builtins.float\"\n",
      "Success: no issues found in 1 source file\n",
      "\n"
     ]
    }
   ],
   "source": [
    "%%typecheck\n",
    "# Не задаем типы в f\n",
    "def f(a):\n",
    "    c: int = a\n",
    "    reveal_type(a)\n",
    "    reveal_type(c)\n",
    "    print(a << 10)\n",
    "\n",
    "def g() -> None:\n",
    "    b = 1.0\n",
    "    reveal_type(b)\n",
    "    f(b)"
   ]
  },
  {
   "cell_type": "markdown",
   "metadata": {
    "pycharm": {
     "name": "#%% md\n"
    },
    "slideshow": {
     "slide_type": "slide"
    }
   },
   "source": [
    "### Насколько плохо не указывать часть типов, ч2"
   ]
  },
  {
   "cell_type": "code",
   "execution_count": 12,
   "metadata": {
    "cell_style": "split",
    "collapsed": true,
    "pycharm": {
     "name": "#%%\n"
    },
    "slideshow": {
     "slide_type": "-"
    }
   },
   "outputs": [
    {
     "name": "stdout",
     "output_type": "stream",
     "text": [
      "<string>:4: note: Revealed type is \"builtins.int\"\n",
      "<string>:9: note: Revealed type is \"Any\"\n",
      "<string>:9: note: 'reveal_type' always outputs 'Any' in unchecked functions\n",
      "Success: no issues found in 1 source file\n",
      "\n"
     ]
    }
   ],
   "source": [
    "%%typecheck\n",
    "# Не задаем типы в g\n",
    "def f(a: int) -> None:\n",
    "    reveal_type(a)\n",
    "    print(a << 10)\n",
    "\n",
    "def g():\n",
    "    b = 1.0\n",
    "    reveal_type(b)\n",
    "    f(b)"
   ]
  },
  {
   "cell_type": "code",
   "execution_count": 13,
   "metadata": {
    "cell_style": "split",
    "collapsed": true,
    "pycharm": {
     "name": "#%%\n"
    },
    "slideshow": {
     "slide_type": "-"
    }
   },
   "outputs": [
    {
     "name": "stdout",
     "output_type": "stream",
     "text": [
      "<string>:4: note: Revealed type is \"Any\"\n",
      "<string>:9: note: Revealed type is \"builtins.float\"\n",
      "Success: no issues found in 1 source file\n",
      "\n"
     ]
    }
   ],
   "source": [
    "%%typecheck\n",
    "# Задаем типы для f частично (без a)\n",
    "def f(a) -> None:\n",
    "    reveal_type(a)\n",
    "    print(a << 10)\n",
    "\n",
    "def g() -> None:\n",
    "    b = 1.0\n",
    "    reveal_type(b)\n",
    "    f(b) "
   ]
  },
  {
   "cell_type": "markdown",
   "metadata": {
    "pycharm": {
     "name": "#%% md\n"
    },
    "slideshow": {
     "slide_type": "slide"
    }
   },
   "source": [
    "### Вывод типов при присваивании, ч1"
   ]
  },
  {
   "cell_type": "code",
   "execution_count": 14,
   "metadata": {
    "cell_style": "split",
    "collapsed": true,
    "pycharm": {
     "name": "#%%\n"
    },
    "slideshow": {
     "slide_type": "-"
    }
   },
   "outputs": [
    {
     "name": "stdout",
     "output_type": "stream",
     "text": [
      "<string>:12: note: Revealed type is \"__main__.B\"\n",
      "Success: no issues found in 1 source file\n",
      "\n"
     ]
    }
   ],
   "source": [
    "%%typecheck\n",
    "# Просто присваивание\n",
    "class A:\n",
    "    def am(self) -> None:\n",
    "        pass\n",
    "\n",
    "class B(A):\n",
    "    def bm(self) -> None:\n",
    "        pass\n",
    "\n",
    "b = B()\n",
    "reveal_type(b)\n",
    "\n",
    "b.bm()"
   ]
  },
  {
   "cell_type": "markdown",
   "metadata": {
    "slideshow": {
     "slide_type": "slide"
    }
   },
   "source": [
    "### Вывод типов при присваивании, ч2"
   ]
  },
  {
   "cell_type": "code",
   "execution_count": 15,
   "metadata": {
    "cell_style": "split",
    "collapsed": true,
    "pycharm": {
     "name": "#%%\n"
    },
    "slideshow": {
     "slide_type": "-"
    }
   },
   "outputs": [
    {
     "name": "stdout",
     "output_type": "stream",
     "text": [
      "<string>:12: note: Revealed type is \"__main__.B\"\n",
      "<string>:13: error: Incompatible types in assignment (expression has type \"A\", variable has type \"B\")\n",
      "<string>:14: note: Revealed type is \"__main__.B\"\n",
      "Found 1 error in 1 file (checked 1 source file)\n",
      "\n"
     ]
    }
   ],
   "source": [
    "%%typecheck\n",
    "# Повышение типа при переприсваивании\n",
    "class A:\n",
    "    def am(self) -> None:\n",
    "        pass\n",
    "\n",
    "class B(A):\n",
    "    def bm(self) -> None:\n",
    "        pass\n",
    "\n",
    "b = B()\n",
    "reveal_type(b)\n",
    "b = A()\n",
    "reveal_type(b)\n",
    "b.bm()"
   ]
  },
  {
   "cell_type": "markdown",
   "metadata": {
    "pycharm": {
     "name": "#%% md\n"
    },
    "slideshow": {
     "slide_type": "slide"
    }
   },
   "source": [
    "### Вывод типов при присваивании, ч3"
   ]
  },
  {
   "cell_type": "code",
   "execution_count": 16,
   "metadata": {
    "cell_style": "split",
    "collapsed": true,
    "pycharm": {
     "name": "#%%\n"
    },
    "slideshow": {
     "slide_type": "-"
    }
   },
   "outputs": [
    {
     "name": "stdout",
     "output_type": "stream",
     "text": [
      "<string>:14: note: Revealed type is \"__main__.A\"\n",
      "<string>:16: note: Revealed type is \"__main__.B\"\n",
      "Success: no issues found in 1 source file\n",
      "\n"
     ]
    }
   ],
   "source": [
    "%%typecheck\n",
    "# Понижение типа при переприсваивании\n",
    "import typing as tp\n",
    "\n",
    "class A:\n",
    "    def am(self) -> None:\n",
    "        pass\n",
    "\n",
    "class B(A):\n",
    "    def bm(self) -> None:\n",
    "        pass\n",
    "\n",
    "a = A()\n",
    "reveal_type(a)\n",
    "a = B()\n",
    "reveal_type(a)\n",
    "#a.am()\n",
    "a.bm()\n",
    "\n"
   ]
  },
  {
   "cell_type": "markdown",
   "metadata": {
    "slideshow": {
     "slide_type": "slide"
    }
   },
   "source": [
    "### Вывод типов при присваивании, ч4"
   ]
  },
  {
   "cell_type": "code",
   "execution_count": 17,
   "metadata": {
    "cell_style": "split",
    "collapsed": true,
    "pycharm": {
     "name": "#%%\n"
    },
    "slideshow": {
     "slide_type": "-"
    }
   },
   "outputs": [
    {
     "name": "stdout",
     "output_type": "stream",
     "text": [
      "<string>:14: note: Revealed type is \"__main__.A\"\n",
      "<string>:16: error: \"A\" has no attribute \"bm\"\n",
      "<string>:19: note: Revealed type is \"__main__.A\"\n",
      "Found 1 error in 1 file (checked 1 source file)\n",
      "\n"
     ]
    }
   ],
   "source": [
    "%%typecheck\n",
    "# Задание сразу более общего типа\n",
    "import typing as tp\n",
    "\n",
    "class A:\n",
    "    def am(self) -> None:\n",
    "        pass\n",
    "\n",
    "class B(A):\n",
    "    def bm(self) -> None:\n",
    "        pass\n",
    "\n",
    "a: A = B()\n",
    "reveal_type(a)\n",
    "\n",
    "a.bm()\n",
    "\n",
    "a = A()\n",
    "reveal_type(a)\n"
   ]
  },
  {
   "cell_type": "markdown",
   "metadata": {
    "pycharm": {
     "name": "#%% md\n"
    },
    "slideshow": {
     "slide_type": "slide"
    }
   },
   "source": [
    "### То же самое для стандартных типов"
   ]
  },
  {
   "cell_type": "code",
   "execution_count": 18,
   "metadata": {
    "cell_style": "split",
    "collapsed": true,
    "pycharm": {
     "name": "#%%\n"
    },
    "slideshow": {
     "slide_type": "-"
    }
   },
   "outputs": [
    {
     "name": "stdout",
     "output_type": "stream",
     "text": [
      "<string>:4: note: Revealed type is \"builtins.float\"\n",
      "<string>:6: note: Revealed type is \"builtins.int\"\n",
      "Success: no issues found in 1 source file\n",
      "\n"
     ]
    }
   ],
   "source": [
    "%%typecheck\n",
    "# Понижение типа при переприсваивании\n",
    "a = 42.4\n",
    "reveal_type(a)\n",
    "a = 1\n",
    "reveal_type(a)\n",
    "\n",
    "a >> 10\n"
   ]
  },
  {
   "cell_type": "code",
   "execution_count": 19,
   "metadata": {
    "cell_style": "split",
    "collapsed": true,
    "pycharm": {
     "name": "#%%\n"
    },
    "slideshow": {
     "slide_type": "-"
    }
   },
   "outputs": [
    {
     "name": "stdout",
     "output_type": "stream",
     "text": [
      "<string>:4: note: Revealed type is \"builtins.int\"\n",
      "<string>:5: error: Incompatible types in assignment (expression has type \"float\", variable has type \"int\")\n",
      "<string>:6: note: Revealed type is \"builtins.int\"\n",
      "Found 1 error in 1 file (checked 1 source file)\n",
      "\n"
     ]
    }
   ],
   "source": [
    "%%typecheck\n",
    "# Повышение типа при переприсваивании\n",
    "b = 1\n",
    "reveal_type(b)\n",
    "b = 42.4\n",
    "reveal_type(b)\n",
    "\n",
    "b >> 10"
   ]
  },
  {
   "cell_type": "markdown",
   "metadata": {
    "pycharm": {
     "name": "#%% md\n"
    },
    "slideshow": {
     "slide_type": "slide"
    }
   },
   "source": [
    "### Вызов функций, ч1"
   ]
  },
  {
   "cell_type": "code",
   "execution_count": 20,
   "metadata": {
    "cell_style": "split",
    "collapsed": true,
    "pycharm": {
     "name": "#%%\n"
    },
    "slideshow": {
     "slide_type": "-"
    }
   },
   "outputs": [
    {
     "name": "stdout",
     "output_type": "stream",
     "text": [
      "<string>:18: error: Argument 1 to \"f\" has incompatible type \"A\"; expected \"B\"\n",
      "Found 1 error in 1 file (checked 1 source file)\n",
      "\n"
     ]
    }
   ],
   "source": [
    "%%typecheck\n",
    "# Конкретный тип как параметр функции\n",
    "# Вызов метода конкретного типа\n",
    "\n",
    "class A:\n",
    "    def am(self) -> None:\n",
    "        pass\n",
    "\n",
    "class B(A):\n",
    "    def bm(self) -> None:\n",
    "        pass\n",
    "\n",
    "\n",
    "def f(value: B) -> None:\n",
    "    value.bm()\n",
    "\n",
    "f(B())\n",
    "f(A())"
   ]
  },
  {
   "cell_type": "markdown",
   "metadata": {
    "slideshow": {
     "slide_type": "slide"
    }
   },
   "source": [
    "### Вызов функций, ч2"
   ]
  },
  {
   "cell_type": "code",
   "execution_count": 21,
   "metadata": {
    "cell_style": "split",
    "collapsed": true,
    "pycharm": {
     "name": "#%%\n"
    },
    "slideshow": {
     "slide_type": "-"
    }
   },
   "outputs": [
    {
     "name": "stdout",
     "output_type": "stream",
     "text": [
      "<string>:18: error: Argument 1 to \"f\" has incompatible type \"A\"; expected \"B\"\n",
      "Found 1 error in 1 file (checked 1 source file)\n",
      "\n"
     ]
    }
   ],
   "source": [
    "%%typecheck\n",
    "# Конкретный тип как параметр функции\n",
    "# Вызов метода общего типа\n",
    "\n",
    "class A:\n",
    "    def am(self) -> None:\n",
    "        pass\n",
    "\n",
    "class B(A):\n",
    "    def bm(self) -> None:\n",
    "        pass\n",
    "\n",
    "\n",
    "def f(value: B) -> None:\n",
    "    value.am()\n",
    "\n",
    "f(B())\n",
    "f(A())"
   ]
  },
  {
   "cell_type": "markdown",
   "metadata": {
    "pycharm": {
     "name": "#%% md\n"
    },
    "slideshow": {
     "slide_type": "slide"
    }
   },
   "source": [
    "### Вызов функций, ч3"
   ]
  },
  {
   "cell_type": "code",
   "execution_count": 22,
   "metadata": {
    "cell_style": "split",
    "collapsed": true,
    "pycharm": {
     "name": "#%%\n"
    },
    "slideshow": {
     "slide_type": "-"
    }
   },
   "outputs": [
    {
     "name": "stdout",
     "output_type": "stream",
     "text": [
      "<string>:15: error: \"A\" has no attribute \"bm\"\n",
      "Found 1 error in 1 file (checked 1 source file)\n",
      "\n"
     ]
    }
   ],
   "source": [
    "%%typecheck\n",
    "# Общий тип как параметр функции\n",
    "# Вызов метода конкретного типа\n",
    "\n",
    "class A:\n",
    "    def am(self) -> None:\n",
    "        pass\n",
    "\n",
    "class B(A):\n",
    "    def bm(self) -> None:\n",
    "        pass\n",
    "\n",
    "\n",
    "def f(value: A) -> None:\n",
    "    value.bm()\n",
    "\n",
    "f(B())\n",
    "f(A())"
   ]
  },
  {
   "cell_type": "markdown",
   "metadata": {
    "slideshow": {
     "slide_type": "slide"
    }
   },
   "source": [
    "### Вызов функций, ч4"
   ]
  },
  {
   "cell_type": "code",
   "execution_count": 23,
   "metadata": {
    "cell_style": "split",
    "collapsed": true,
    "pycharm": {
     "name": "#%%\n"
    },
    "slideshow": {
     "slide_type": "-"
    }
   },
   "outputs": [
    {
     "name": "stdout",
     "output_type": "stream",
     "text": [
      "<string>:15: note: Revealed type is \"__main__.A\"\n",
      "Success: no issues found in 1 source file\n",
      "\n"
     ]
    }
   ],
   "source": [
    "%%typecheck\n",
    "# Общий тип как параметр функции\n",
    "# Вызов метода общего типа\n",
    "\n",
    "class A:\n",
    "    def am(self) -> None:\n",
    "        pass\n",
    "\n",
    "class B(A):\n",
    "    def bm(self) -> None:\n",
    "        pass\n",
    "\n",
    "\n",
    "def f(value: A) -> None:\n",
    "    reveal_type(value)\n",
    "    value.am()\n",
    "\n",
    "f(B())\n",
    "f(A())"
   ]
  },
  {
   "cell_type": "markdown",
   "metadata": {
    "pycharm": {
     "name": "#%% md\n"
    },
    "slideshow": {
     "slide_type": "slide"
    }
   },
   "source": [
    "### Наследование, атрибуты класса, ч1"
   ]
  },
  {
   "cell_type": "code",
   "execution_count": 24,
   "metadata": {
    "cell_style": "split",
    "collapsed": true,
    "pycharm": {
     "name": "#%%\n"
    },
    "slideshow": {
     "slide_type": "-"
    }
   },
   "outputs": [
    {
     "name": "stdout",
     "output_type": "stream",
     "text": [
      "<string>:8: error: Incompatible types in assignment (expression has type \"float\", base class \"A\" defined the type as \"int\")\n",
      "Found 1 error in 1 file (checked 1 source file)\n",
      "\n"
     ]
    }
   ],
   "source": [
    "%%typecheck\n",
    "# Override c повышением типа\n",
    "\n",
    "class A:\n",
    "    VALUE = 4\n",
    "\n",
    "class B(A):\n",
    "    VALUE = 4.5\n",
    "    \n",
    "\n",
    "def f(p: A) -> None:\n",
    "    print(p.VALUE >> 1)\n",
    "    \n",
    "f(A())\n",
    "f(B())"
   ]
  },
  {
   "cell_type": "markdown",
   "metadata": {
    "slideshow": {
     "slide_type": "slide"
    }
   },
   "source": [
    "### Наследование, атрибуты класса, ч2"
   ]
  },
  {
   "cell_type": "code",
   "execution_count": 25,
   "metadata": {
    "cell_style": "split",
    "collapsed": true,
    "pycharm": {
     "name": "#%%\n"
    },
    "slideshow": {
     "slide_type": "-"
    }
   },
   "outputs": [
    {
     "name": "stdout",
     "output_type": "stream",
     "text": [
      "Success: no issues found in 1 source file\n",
      "\n"
     ]
    }
   ],
   "source": [
    "%%typecheck\n",
    "# Override c понижением типа\n",
    "\n",
    "class A:\n",
    "    VALUE = 4.5\n",
    "\n",
    "class B(A):\n",
    "    VALUE = 4\n",
    "    \n",
    "\n",
    "def f(p: A) -> None:\n",
    "    print(p.VALUE + 1)\n",
    "    \n",
    "f(A())\n",
    "f(B())"
   ]
  },
  {
   "cell_type": "markdown",
   "metadata": {
    "pycharm": {
     "name": "#%% md\n"
    },
    "slideshow": {
     "slide_type": "slide"
    }
   },
   "source": [
    "### Наследование, атрибуты объекта"
   ]
  },
  {
   "cell_type": "code",
   "execution_count": 26,
   "metadata": {
    "cell_style": "split",
    "collapsed": true,
    "pycharm": {
     "name": "#%%\n"
    },
    "slideshow": {
     "slide_type": "-"
    }
   },
   "outputs": [
    {
     "name": "stdout",
     "output_type": "stream",
     "text": [
      "<string>:10: error: Incompatible types in assignment (expression has type \"float\", variable has type \"int\")\n",
      "Found 1 error in 1 file (checked 1 source file)\n",
      "\n"
     ]
    }
   ],
   "source": [
    "%%typecheck\n",
    "# Override c повышением типа\n",
    "\n",
    "class A:\n",
    "    def __init__(self) -> None:\n",
    "        self.a = 1\n",
    "\n",
    "class B(A):\n",
    "    def __init__(self) -> None:\n",
    "        self.a = 4.5\n",
    "\n",
    "        \n",
    "def f(p: A) -> None:\n",
    "    print(p.a >> 5)\n",
    "    \n",
    "f(A())\n",
    "f(B())"
   ]
  },
  {
   "cell_type": "code",
   "execution_count": 27,
   "metadata": {
    "cell_style": "split",
    "collapsed": true,
    "pycharm": {
     "name": "#%%\n"
    },
    "slideshow": {
     "slide_type": "-"
    }
   },
   "outputs": [
    {
     "name": "stdout",
     "output_type": "stream",
     "text": [
      "Success: no issues found in 1 source file\n",
      "\n"
     ]
    }
   ],
   "source": [
    "%%typecheck\n",
    "# Override c понижением типа\n",
    "\n",
    "class A:\n",
    "    def __init__(self) -> None:\n",
    "        self.a = 4.5\n",
    "\n",
    "class B(A):\n",
    "    def __init__(self) -> None:\n",
    "        self.a = 1\n",
    "\n",
    "        \n",
    "def f(p: A) -> None:\n",
    "    print(p.a + 1)\n",
    "    \n",
    "f(A())\n",
    "f(B())"
   ]
  },
  {
   "cell_type": "markdown",
   "metadata": {
    "pycharm": {
     "name": "#%% md\n"
    },
    "slideshow": {
     "slide_type": "slide"
    }
   },
   "source": [
    "### Наследование, переопределение методов, ч1"
   ]
  },
  {
   "cell_type": "code",
   "execution_count": 28,
   "metadata": {
    "cell_style": "split",
    "collapsed": true,
    "pycharm": {
     "name": "#%%\n"
    },
    "slideshow": {
     "slide_type": "-"
    }
   },
   "outputs": [
    {
     "name": "stdout",
     "output_type": "stream",
     "text": [
      "<string>:9: error: Argument 1 of \"am\" is incompatible with supertype \"A\"; supertype defines the argument type as \"float\"\n",
      "<string>:9: note: This violates the Liskov substitution principle\n",
      "<string>:9: note: See https://mypy.readthedocs.io/en/stable/common_issues.html#incompatible-overrides\n",
      "Found 1 error in 1 file (checked 1 source file)\n",
      "\n"
     ]
    }
   ],
   "source": [
    "%%typecheck\n",
    "# Override c понижением типа параметра\n",
    "\n",
    "class A:\n",
    "    def am(self, a: float) -> int:\n",
    "        return int(a)\n",
    "\n",
    "class B(A):\n",
    "    def am(self, a: int) -> int:\n",
    "        return a >> 1\n",
    "\n",
    "def f(p: A) -> None:\n",
    "    p.am(1.1)\n",
    "\n",
    "f(A())\n",
    "f(B())"
   ]
  },
  {
   "cell_type": "markdown",
   "metadata": {
    "slideshow": {
     "slide_type": "slide"
    }
   },
   "source": [
    "### Наследование, переопределение методов, ч2"
   ]
  },
  {
   "cell_type": "code",
   "execution_count": 29,
   "metadata": {
    "cell_style": "split",
    "collapsed": true,
    "pycharm": {
     "name": "#%%\n"
    },
    "slideshow": {
     "slide_type": "-"
    }
   },
   "outputs": [
    {
     "name": "stdout",
     "output_type": "stream",
     "text": [
      "Success: no issues found in 1 source file\n",
      "\n"
     ]
    }
   ],
   "source": [
    "%%typecheck\n",
    "# Override c повышением типа параметра\n",
    "\n",
    "class A:\n",
    "    def am(self, a: int) -> int:\n",
    "        return int(a)\n",
    "\n",
    "class B(A):\n",
    "    def am(self, a: float) -> int:\n",
    "        return int(a)\n",
    "\n",
    "\n",
    "def f(p: A) -> None:\n",
    "    p.am(1)\n",
    "\n",
    "f(A())\n",
    "f(B())"
   ]
  },
  {
   "cell_type": "code",
   "execution_count": 30,
   "metadata": {
    "collapsed": true,
    "slideshow": {
     "slide_type": "skip"
    }
   },
   "outputs": [
    {
     "name": "stdout",
     "output_type": "stream",
     "text": [
      "<string>:10: error: Incompatible types in assignment (expression has type \"float\", variable has type \"int\")\n",
      "Found 1 error in 1 file (checked 1 source file)\n",
      "\n"
     ]
    }
   ],
   "source": [
    "%%typecheck\n",
    "# \n",
    "\n",
    "class A:\n",
    "    def __init__(self, a: int) -> None:\n",
    "        self.a = a\n",
    "\n",
    "class B(A):\n",
    "    def __init__(self, a: float) -> None:\n",
    "        self.a = a\n",
    "\n",
    "\n",
    "A(5)\n",
    "B(10)"
   ]
  },
  {
   "cell_type": "markdown",
   "metadata": {
    "pycharm": {
     "name": "#%% md\n"
    },
    "slideshow": {
     "slide_type": "slide"
    }
   },
   "source": [
    "### Наследование, переопределение методов, возвращаемое значение, ч1"
   ]
  },
  {
   "cell_type": "code",
   "execution_count": 31,
   "metadata": {
    "cell_style": "split",
    "collapsed": true,
    "pycharm": {
     "name": "#%%\n"
    },
    "slideshow": {
     "slide_type": "-"
    }
   },
   "outputs": [
    {
     "name": "stdout",
     "output_type": "stream",
     "text": [
      "Success: no issues found in 1 source file\n",
      "\n"
     ]
    }
   ],
   "source": [
    "%%typecheck\n",
    "# Override c понижением типа возвращаемого значения\n",
    "\n",
    "class A:\n",
    "    def am(self, a: int) -> float:\n",
    "        return float(a)\n",
    "\n",
    "class B(A):\n",
    "    def am(self, a: int) -> int:\n",
    "        return a\n",
    "\n",
    "def f(p: A) -> None:\n",
    "    print(p.am(1))\n",
    "\n",
    "f(A())\n",
    "f(B())"
   ]
  },
  {
   "cell_type": "markdown",
   "metadata": {
    "slideshow": {
     "slide_type": "slide"
    }
   },
   "source": [
    "### Наследование, переопределение методов, возвращаемое значение, ч2"
   ]
  },
  {
   "cell_type": "code",
   "execution_count": 32,
   "metadata": {
    "cell_style": "split",
    "collapsed": true,
    "pycharm": {
     "name": "#%%\n"
    },
    "slideshow": {
     "slide_type": "-"
    }
   },
   "outputs": [
    {
     "name": "stdout",
     "output_type": "stream",
     "text": [
      "<string>:9: error: Return type \"float\" of \"am\" incompatible with return type \"int\" in supertype \"A\"\n",
      "Found 1 error in 1 file (checked 1 source file)\n",
      "\n"
     ]
    }
   ],
   "source": [
    "%%typecheck\n",
    "# Override c понижением типа возвращаемого значения\n",
    "\n",
    "class A:\n",
    "    def am(self, a: int) -> int:\n",
    "        return a\n",
    "\n",
    "class B(A):\n",
    "    def am(self, a: int) -> float:\n",
    "        return float(a)\n",
    "\n",
    "def f(p: A) -> None:\n",
    "    b = p.am(1)\n",
    "    b >> 1\n",
    "\n",
    "f(A())\n",
    "f(B())"
   ]
  },
  {
   "cell_type": "markdown",
   "metadata": {
    "slideshow": {
     "slide_type": "slide"
    }
   },
   "source": [
    "# спасибо за внимание!"
   ]
  },
  {
   "cell_type": "markdown",
   "metadata": {
    "slideshow": {
     "slide_type": "-"
    }
   },
   "source": [
    "<center><img src=\"images/zeon.jpg\" width=700px/></center>"
   ]
  },
  {
   "cell_type": "code",
   "execution_count": null,
   "metadata": {},
   "outputs": [],
   "source": []
  }
 ],
 "metadata": {
  "celltoolbar": "Slideshow",
  "kernelspec": {
   "display_name": "Python 3 (ipykernel)",
   "language": "python",
   "name": "python3"
  },
  "language_info": {
   "codemirror_mode": {
    "name": "ipython",
    "version": 3
   },
   "file_extension": ".py",
   "mimetype": "text/x-python",
   "name": "python",
   "nbconvert_exporter": "python",
   "pygments_lexer": "ipython3",
   "version": "3.10.6"
  },
  "rise": {
   "enable_chalkboard": true,
   "footer": "<p style=\"margin: 5px; color: #a0a0a0\">YSDA Python Course</p>",
   "scroll": true,
   "start_slideshow_at": "selected",
   "theme": "serif"
  }
 },
 "nbformat": 4,
 "nbformat_minor": 2
}
