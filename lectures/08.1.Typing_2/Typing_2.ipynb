{
 "cells": [
  {
   "cell_type": "markdown",
   "metadata": {
    "pycharm": {
     "name": "#%% md\n"
    },
    "slideshow": {
     "slide_type": "slide"
    }
   },
   "source": [
    "<center>\n",
    "    <img src=\"https://upload.wikimedia.org/wikipedia/commons/a/a8/%D0%9B%D0%9E%D0%93%D0%9E_%D0%A8%D0%90%D0%94.png\" width=500px/>\n",
    "    <font>Python 2022</font><br/>\n",
    "    <br/>\n",
    "    <br/>\n",
    "    <b style=\"font-size: 2em\">Типы - Часть 2</b><br/>\n",
    "    <br/>\n",
    "    <font>Никита Бондарцев</font><br/>\n",
    "</center>"
   ]
  },
  {
   "cell_type": "markdown",
   "metadata": {
    "pycharm": {
     "name": "#%% md\n"
    },
    "slideshow": {
     "slide_type": "slide"
    }
   },
   "source": [
    "### Что мы сегодня разберем?"
   ]
  },
  {
   "cell_type": "raw",
   "metadata": {
    "pycharm": {
     "name": "#%% raw\n"
    }
   },
   "source": [
    "Специальные типы:\n",
    "\n",
    "✅ Any - тип, который может принимать все значения и содержит все методы\n",
    "✅ Union - тип, который может принимать любой из переданных типов\n",
    "✅ Optional - тип или None\n",
    "\n",
    "Типы генерики:\n",
    "\n",
    "import typing as tp\n",
    "✅ tp.Tuple - генерик к tuple\n",
    "✅ tp.List - генерик к list\n",
    "✅ tp.Mapping - генерик к collections.abc.Mapping\n",
    "✅ tp.Sequence - генерик к collections.abc.Sequence\n",
    "✅ tp.Callable - генерик к collections.abc.Callable\n",
    "✅ tp.Type - генерик к type\n",
    "\n",
    "Типы протоколы:\n",
    "\n",
    "✅ Sized - alias к collections.abc.Sized\n",
    "\n",
    "Создание своих типов-генериков и типов-протоколов:\n",
    "\n",
    "✅ TypeVar - позволяет задавать параметр для типов-генериков\n",
    "✅ Generic - позволяет создавать свои классы-генерики\n",
    "✅ Protocol - позволяет создавать свои протоколы"
   ]
  },
  {
   "cell_type": "markdown",
   "metadata": {
    "pycharm": {
     "name": "#%% md\n"
    },
    "slideshow": {
     "slide_type": "slide"
    }
   },
   "source": [
    "### Специальный тип Any"
   ]
  },
  {
   "cell_type": "code",
   "execution_count": 1,
   "metadata": {
    "pycharm": {
     "name": "#%%\n"
    }
   },
   "outputs": [
    {
     "name": "stdout",
     "output_type": "stream",
     "text": [
      "Special type indicating an unconstrained type.\n"
     ]
    }
   ],
   "source": [
    "import typing as tp\n",
    "print(tp.Any.__doc__.split(\"\\n\")[0])"
   ]
  },
  {
   "cell_type": "markdown",
   "metadata": {
    "pycharm": {
     "name": "#%% md\n"
    },
    "slideshow": {
     "slide_type": "fragment"
    }
   },
   "source": [
    "### Почему тип Any специальный?"
   ]
  },
  {
   "cell_type": "code",
   "execution_count": 2,
   "metadata": {
    "cell_style": "center",
    "pycharm": {
     "name": "#%%\n"
    },
    "slideshow": {
     "slide_type": "-"
    }
   },
   "outputs": [
    {
     "data": {
      "text/plain": [
       "(type, type, typing._SpecialForm)"
      ]
     },
     "execution_count": 2,
     "metadata": {},
     "output_type": "execute_result"
    }
   ],
   "source": [
    "import typing as tp\n",
    "\n",
    "# Тип-класс\n",
    "class A:\n",
    "    pass\n",
    "\n",
    "# Тип-класс\n",
    "B = int\n",
    "\n",
    "# Тип-объект\n",
    "C = tp.Any\n",
    "\n",
    "type(A), type(B), type(C)"
   ]
  },
  {
   "cell_type": "code",
   "execution_count": 3,
   "metadata": {
    "collapsed": true,
    "slideshow": {
     "slide_type": "-"
    }
   },
   "outputs": [
    {
     "ename": "TypeError",
     "evalue": "typing.Any cannot be used with isinstance()",
     "output_type": "error",
     "traceback": [
      "\u001b[0;31m---------------------------------------------------------------------------\u001b[0m",
      "\u001b[0;31mTypeError\u001b[0m                                 Traceback (most recent call last)",
      "Cell \u001b[0;32mIn [3], line 1\u001b[0m\n\u001b[0;32m----> 1\u001b[0m \u001b[38;5;28;43misinstance\u001b[39;49m\u001b[43m(\u001b[49m\u001b[38;5;241;43m1\u001b[39;49m\u001b[43m,\u001b[49m\u001b[43m \u001b[49m\u001b[43mtp\u001b[49m\u001b[38;5;241;43m.\u001b[39;49m\u001b[43mAny\u001b[49m\u001b[43m)\u001b[49m\n",
      "File \u001b[0;32m~/.pyenv/versions/3.10.6/lib/python3.10/typing.py:396\u001b[0m, in \u001b[0;36m_SpecialForm.__instancecheck__\u001b[0;34m(self, obj)\u001b[0m\n\u001b[1;32m    395\u001b[0m \u001b[38;5;28;01mdef\u001b[39;00m \u001b[38;5;21m__instancecheck__\u001b[39m(\u001b[38;5;28mself\u001b[39m, obj):\n\u001b[0;32m--> 396\u001b[0m     \u001b[38;5;28;01mraise\u001b[39;00m \u001b[38;5;167;01mTypeError\u001b[39;00m(\u001b[38;5;124mf\u001b[39m\u001b[38;5;124m\"\u001b[39m\u001b[38;5;132;01m{\u001b[39;00m\u001b[38;5;28mself\u001b[39m\u001b[38;5;132;01m}\u001b[39;00m\u001b[38;5;124m cannot be used with isinstance()\u001b[39m\u001b[38;5;124m\"\u001b[39m)\n",
      "\u001b[0;31mTypeError\u001b[0m: typing.Any cannot be used with isinstance()"
     ]
    }
   ],
   "source": [
    "isinstance(1, tp.Any)"
   ]
  },
  {
   "cell_type": "markdown",
   "metadata": {
    "pycharm": {
     "name": "#%% md\n"
    },
    "slideshow": {
     "slide_type": "slide"
    }
   },
   "source": [
    "### Специальный тип Union"
   ]
  },
  {
   "cell_type": "code",
   "execution_count": 4,
   "metadata": {
    "pycharm": {
     "name": "#%%\n"
    }
   },
   "outputs": [
    {
     "name": "stdout",
     "output_type": "stream",
     "text": [
      "Union type; Union[X, Y] means either X or Y.\n"
     ]
    }
   ],
   "source": [
    "import typing as tp\n",
    "print(tp.Union.__doc__.split(\"\\n\")[0])"
   ]
  },
  {
   "cell_type": "markdown",
   "metadata": {
    "collapsed": true,
    "pycharm": {
     "name": "#%%\n"
    }
   },
   "source": [
    "Определение подтипа:\n",
    "* ∀ A: A -> A\n",
    "* A -> B  =>  A.values ⊇ B.values\n",
    "* A -> B  =>  A.functions ⊆ B.functions\n",
    "\n",
    "tp.Union[float, str] => объединение всех значений, пересечение всех методов, поэтому\n",
    "\n",
    "#### Выполняются ли такие свойства?\n",
    "\n",
    "tp.Union[float, str] -> float \\\n",
    "tp.Union[float, str] -> str"
   ]
  },
  {
   "cell_type": "code",
   "execution_count": 6,
   "metadata": {
    "collapsed": true,
    "pycharm": {
     "name": "#%%\n"
    },
    "slideshow": {
     "slide_type": "slide"
    }
   },
   "outputs": [
    {
     "name": "stdout",
     "output_type": "stream",
     "text": [
      "<string>:18: note: Revealed type is \"Union[__main__.A, __main__.B]\"\n",
      "<string>:19: error: Item \"B\" of \"Union[A, B]\" has no attribute \"am\"\n",
      "Found 1 error in 1 file (checked 1 source file)\n",
      "\n"
     ]
    }
   ],
   "source": [
    "%%typecheck\n",
    "\n",
    "import typing as tp\n",
    "\n",
    "class A:\n",
    "    def am(self) -> None:\n",
    "        pass\n",
    "    \n",
    "    def run(self) -> None:\n",
    "        pass\n",
    "\n",
    "class B:\n",
    "    def run(self) -> None:\n",
    "        pass\n",
    "\n",
    "\n",
    "a: tp.Union[A, B] = A()\n",
    "reveal_type(a)\n",
    "a.am()\n",
    "a.run()"
   ]
  },
  {
   "cell_type": "code",
   "execution_count": 16,
   "metadata": {
    "pycharm": {
     "name": "#%%\n"
    },
    "slideshow": {
     "slide_type": "slide"
    }
   },
   "outputs": [
    {
     "data": {
      "text/plain": [
       "(True, True)"
      ]
     },
     "execution_count": 16,
     "metadata": {},
     "output_type": "execute_result"
    }
   ],
   "source": [
    "tp.Union[float, str] == tp.Union[str, float], tp.Union[str, float] == str | float"
   ]
  },
  {
   "cell_type": "code",
   "execution_count": 8,
   "metadata": {
    "pycharm": {
     "name": "#%%\n"
    }
   },
   "outputs": [
    {
     "data": {
      "text/plain": [
       "True"
      ]
     },
     "execution_count": 8,
     "metadata": {},
     "output_type": "execute_result"
    }
   ],
   "source": [
    "float == tp.Union[float]"
   ]
  },
  {
   "cell_type": "markdown",
   "metadata": {
    "pycharm": {
     "name": "#%% md\n"
    },
    "slideshow": {
     "slide_type": "slide"
    }
   },
   "source": [
    "### Union → Примеры 1/2"
   ]
  },
  {
   "cell_type": "code",
   "execution_count": 11,
   "metadata": {
    "cell_style": "split",
    "collapsed": true,
    "pycharm": {
     "name": "#%%\n"
    }
   },
   "outputs": [
    {
     "name": "stdout",
     "output_type": "stream",
     "text": [
      "<string>:12: error: Argument 1 to \"f\" has incompatible type \"Dict[<nothing>, <nothing>]\"; expected \"Union[float, str]\"\n",
      "Found 1 error in 1 file (checked 1 source file)\n",
      "\n"
     ]
    }
   ],
   "source": [
    "%%typecheck\n",
    "# Использование надтипов в Union\n",
    "\n",
    "import typing as tp\n",
    "\n",
    "def f(a: tp.Union[float, str]):\n",
    "    pass\n",
    "\n",
    "f(2)\n",
    "f(2.0)\n",
    "f(\"hello\")\n",
    "f({})"
   ]
  },
  {
   "cell_type": "code",
   "execution_count": 10,
   "metadata": {
    "cell_style": "split",
    "collapsed": true,
    "pycharm": {
     "name": "#%%\n"
    }
   },
   "outputs": [
    {
     "name": "stdout",
     "output_type": "stream",
     "text": [
      "<string>:10: error: Argument 1 to \"f\" has incompatible type \"float\"; expected \"Union[int, str]\"\n",
      "<string>:12: error: Argument 1 to \"f\" has incompatible type \"Dict[<nothing>, <nothing>]\"; expected \"Union[int, str]\"\n",
      "Found 2 errors in 1 file (checked 1 source file)\n",
      "\n"
     ]
    }
   ],
   "source": [
    "%%typecheck\n",
    "# Использование подтипов в Union\n",
    "\n",
    "import typing as tp\n",
    "\n",
    "def f(a: tp.Union[int, str]):\n",
    "    pass\n",
    "\n",
    "f(2)\n",
    "f(2.0)\n",
    "f(\"hello\")\n",
    "f({})"
   ]
  },
  {
   "cell_type": "markdown",
   "metadata": {
    "pycharm": {
     "name": "#%% md\n"
    },
    "slideshow": {
     "slide_type": "slide"
    }
   },
   "source": [
    "### Union → Примеры 2/2"
   ]
  },
  {
   "cell_type": "code",
   "execution_count": 12,
   "metadata": {
    "cell_style": "split",
    "collapsed": true,
    "pycharm": {
     "name": "#%%\n"
    }
   },
   "outputs": [
    {
     "name": "stdout",
     "output_type": "stream",
     "text": [
      "<string>:8: note: Revealed type is \"Union[builtins.int, builtins.float, builtins.str]\"\n",
      "<string>:10: note: Revealed type is \"builtins.int\"\n",
      "<string>:12: note: Revealed type is \"Union[builtins.float, builtins.str]\"\n",
      "<string>:14: note: Revealed type is \"builtins.str\"\n",
      "<string>:16: note: Revealed type is \"builtins.float\"\n",
      "Success: no issues found in 1 source file\n",
      "\n"
     ]
    }
   ],
   "source": [
    "%%typecheck\n",
    "# Вывод типов с учетом isinstance\n",
    "\n",
    "\n",
    "import typing as tp\n",
    "\n",
    "def f(a: int | float | str):\n",
    "    reveal_type(a)\n",
    "    if isinstance(a, int):\n",
    "        reveal_type(a)\n",
    "    else:\n",
    "        reveal_type(a)\n",
    "        if isinstance(a, str):\n",
    "            reveal_type(a)\n",
    "        else:\n",
    "            reveal_type(a)\n"
   ]
  },
  {
   "cell_type": "code",
   "execution_count": 13,
   "metadata": {
    "cell_style": "split",
    "collapsed": true,
    "pycharm": {
     "name": "#%%\n"
    }
   },
   "outputs": [
    {
     "name": "stdout",
     "output_type": "stream",
     "text": [
      "<string>:8: note: Revealed type is \"Union[builtins.int, builtins.float, builtins.str]\"\n",
      "<string>:10: note: Revealed type is \"builtins.float\"\n",
      "<string>:12: note: Revealed type is \"builtins.str\"\n",
      "<string>:14: note: Revealed type is \"builtins.str\"\n",
      "Success: no issues found in 1 source file\n",
      "\n"
     ]
    }
   ],
   "source": [
    "%%typecheck\n",
    "# Вывод типов с учетом isinstance\n",
    "# --warn-unreachable\n",
    "\n",
    "import typing as tp\n",
    "\n",
    "def f(a: int | float | str):\n",
    "    reveal_type(a)\n",
    "    if isinstance(a, float):\n",
    "        reveal_type(a)\n",
    "    else:\n",
    "        reveal_type(a)\n",
    "        if isinstance(a, str):\n",
    "            reveal_type(a)\n",
    "        else:\n",
    "            reveal_type(a)"
   ]
  },
  {
   "cell_type": "markdown",
   "metadata": {
    "pycharm": {
     "name": "#%% md\n"
    },
    "slideshow": {
     "slide_type": "slide"
    }
   },
   "source": [
    "### Специальный тип Optional"
   ]
  },
  {
   "cell_type": "code",
   "execution_count": 17,
   "metadata": {
    "pycharm": {
     "name": "#%%\n"
    }
   },
   "outputs": [
    {
     "name": "stdout",
     "output_type": "stream",
     "text": [
      "Optional type.\n"
     ]
    }
   ],
   "source": [
    "import typing as tp\n",
    "print(tp.Optional.__doc__.split(\"\\n\")[0])"
   ]
  },
  {
   "cell_type": "code",
   "execution_count": 18,
   "metadata": {
    "pycharm": {
     "name": "#%%\n"
    }
   },
   "outputs": [
    {
     "data": {
      "text/plain": [
       "(True, True)"
      ]
     },
     "execution_count": 18,
     "metadata": {},
     "output_type": "execute_result"
    }
   ],
   "source": [
    "import typing as tp\n",
    "\n",
    "tp.Optional[float] == tp.Union[float, None], tp.Optional[float] == float | None"
   ]
  },
  {
   "cell_type": "markdown",
   "metadata": {
    "pycharm": {
     "name": "#%% md\n"
    },
    "slideshow": {
     "slide_type": "slide"
    }
   },
   "source": [
    "### Специальный тип Optional, примеры 1/1"
   ]
  },
  {
   "cell_type": "code",
   "execution_count": 19,
   "metadata": {
    "cell_style": "split",
    "collapsed": true,
    "pycharm": {
     "name": "#%%\n"
    }
   },
   "outputs": [
    {
     "name": "stdout",
     "output_type": "stream",
     "text": [
      "<string>:10: error: Argument 1 to \"f\" has incompatible type \"str\"; expected \"Optional[float]\"\n",
      "Found 1 error in 1 file (checked 1 source file)\n",
      "\n"
     ]
    }
   ],
   "source": [
    "%%typecheck\n",
    "\n",
    "import typing as tp\n",
    "\n",
    "def f(a: float | None):\n",
    "    pass\n",
    "\n",
    "f(1)\n",
    "f(1.0)\n",
    "f(\"1\")\n",
    "f(None)"
   ]
  },
  {
   "cell_type": "code",
   "execution_count": 20,
   "metadata": {
    "cell_style": "split",
    "collapsed": true,
    "pycharm": {
     "name": "#%%\n"
    }
   },
   "outputs": [
    {
     "name": "stdout",
     "output_type": "stream",
     "text": [
      "<string>:7: note: Revealed type is \"Union[builtins.float, None]\"\n",
      "<string>:9: note: Revealed type is \"None\"\n",
      "<string>:11: note: Revealed type is \"builtins.float\"\n",
      "Success: no issues found in 1 source file\n",
      "\n"
     ]
    }
   ],
   "source": [
    "%%typecheck\n",
    "# reveal в Optional делается аналогично Union\n",
    "\n",
    "import typing as tp\n",
    "\n",
    "def f(a: float | None):\n",
    "    reveal_type(a)\n",
    "    if a is None:\n",
    "        reveal_type(a)\n",
    "    else:\n",
    "        reveal_type(a)"
   ]
  },
  {
   "cell_type": "markdown",
   "metadata": {
    "pycharm": {
     "name": "#%% md\n"
    },
    "slideshow": {
     "slide_type": "slide"
    }
   },
   "source": [
    "### Что такое генерики?"
   ]
  },
  {
   "cell_type": "raw",
   "metadata": {
    "pycharm": {
     "name": "#%% raw\n"
    },
    "slideshow": {
     "slide_type": "-"
    }
   },
   "source": [
    "Генерик - параметризированный тип\n",
    "\n",
    "Например,\n",
    "List[int] - тип list с параметром int\n",
    "Dict[str, int] - dict c параметром str у ключа и int у значения\n",
    "Tuple[int, ...] - tuple с параметрами int\n",
    "\n",
    "Note: с питона 3.9 можно использовать стандартные контейнеры в качестве генериков, например, list[int], dict[str, int], tuple[int, float, str]"
   ]
  },
  {
   "cell_type": "markdown",
   "metadata": {
    "pycharm": {
     "name": "#%% md\n"
    },
    "slideshow": {
     "slide_type": "fragment"
    }
   },
   "source": [
    "### Ковариантность/контрвариантность"
   ]
  },
  {
   "cell_type": "raw",
   "metadata": {
    "pycharm": {
     "name": "#%% raw\n"
    }
   },
   "source": [
    "* Генерик G[T] ковариантен по параметру T, если из A -> B следует, что G[A] -> G[B]\n",
    "* Генерик G[T] контрвариантен по параметру T, если из A -> B следует, что G[B] -> G[A]\n",
    "* Генерик G[T] инвариантен по параметру Т, если из A -> B следует, что  G[A] -/> G[B] и G[B] -/> G[A]"
   ]
  },
  {
   "cell_type": "markdown",
   "metadata": {
    "pycharm": {
     "name": "#%% md\n"
    },
    "slideshow": {
     "slide_type": "slide"
    }
   },
   "source": [
    "### Примеры вариантности"
   ]
  },
  {
   "cell_type": "raw",
   "metadata": {
    "pycharm": {
     "name": "#%% raw\n"
    },
    "slideshow": {
     "slide_type": "-"
    }
   },
   "source": [
    "Optional[T]:\n",
    "    A -> B => Optional[A] -> Optional[B]\n",
    "\n",
    "Union[T, U]: \n",
    "    C -> D => Union[A, C] -> Union[A, D]\n",
    " \n",
    " Почему:\n",
    " v(A) \\/ v(C) ?? v(A) \\/ v(D)\n",
    " m(A) /\\ m(C) ??  m(A) /\\ m(D)"
   ]
  },
  {
   "cell_type": "markdown",
   "metadata": {
    "pycharm": {
     "name": "#%% md\n"
    },
    "slideshow": {
     "slide_type": "slide"
    }
   },
   "source": [
    "### typing.Tuple (tuple)"
   ]
  },
  {
   "cell_type": "code",
   "execution_count": 21,
   "metadata": {
    "pycharm": {
     "name": "#%%\n"
    }
   },
   "outputs": [
    {
     "name": "stdout",
     "output_type": "stream",
     "text": [
      "Tuple type; Tuple[X, Y] is the cross-product type of X and Y.\n"
     ]
    }
   ],
   "source": [
    "import typing as tp\n",
    "print(tp.Tuple.__doc__.split(\"\\n\")[0])"
   ]
  },
  {
   "cell_type": "code",
   "execution_count": 22,
   "metadata": {
    "collapsed": true,
    "pycharm": {
     "name": "#%%\n"
    }
   },
   "outputs": [
    {
     "name": "stdout",
     "output_type": "stream",
     "text": [
      "Success: no issues found in 1 source file\n",
      "\n"
     ]
    }
   ],
   "source": [
    "%%typecheck\n",
    "import typing as tp\n",
    "\n",
    "a: tp.Tuple[int, str] = (1, \"hello\")\n",
    "b: tuple[int, int, int] = (1, 2, 3)\n",
    "c: tuple[int, ...] = (1, 2, 3, 4, 5)"
   ]
  },
  {
   "cell_type": "markdown",
   "metadata": {
    "pycharm": {
     "name": "#%% md\n"
    },
    "slideshow": {
     "slide_type": "slide"
    }
   },
   "source": [
    "### Tuple, пример"
   ]
  },
  {
   "cell_type": "code",
   "execution_count": 23,
   "metadata": {
    "cell_style": "split",
    "collapsed": true,
    "pycharm": {
     "name": "#%%\n"
    },
    "slideshow": {
     "slide_type": "-"
    }
   },
   "outputs": [
    {
     "name": "stdout",
     "output_type": "stream",
     "text": [
      "<string>:8: error: Unsupported operand types for << (\"float\" and \"int\")\n",
      "<string>:9: error: Tuple index out of range\n",
      "<string>:12: error: Argument 1 to \"f\" has incompatible type \"Tuple[int, float, int]\"; expected \"Tuple[int, float]\"\n",
      "<string>:14: error: Argument 1 to \"f\" has incompatible type \"Tuple[float, int]\"; expected \"Tuple[int, float]\"\n",
      "<string>:15: error: Argument 1 to \"f\" has incompatible type \"Tuple[int, str]\"; expected \"Tuple[int, float]\"\n",
      "Found 5 errors in 1 file (checked 1 source file)\n",
      "\n"
     ]
    }
   ],
   "source": [
    "%%typecheck\n",
    "# Heterogeneus tuple \n",
    "\n",
    "\n",
    "\n",
    "def f(a: tuple[int, float]):\n",
    "    a[0] << 10\n",
    "    a[1] << 10\n",
    "    a[2] + 1\n",
    "\n",
    "f((1, 1.4))\n",
    "f((1, 1.4, 1))\n",
    "f((1, 1))\n",
    "f((1.4, 1))\n",
    "f((1, \"1\"))"
   ]
  },
  {
   "cell_type": "code",
   "execution_count": 24,
   "metadata": {
    "cell_style": "split",
    "collapsed": true,
    "pycharm": {
     "name": "#%%\n"
    }
   },
   "outputs": [
    {
     "name": "stdout",
     "output_type": "stream",
     "text": [
      "<string>:8: error: Unsupported operand types for << (\"float\" and \"int\")\n",
      "<string>:9: error: Unsupported target for indexed assignment (\"Tuple[float, ...]\")\n",
      "<string>:13: error: Argument 1 to \"f\" has incompatible type \"Tuple[str, str, str]\"; expected \"Tuple[float, ...]\"\n",
      "Found 3 errors in 1 file (checked 1 source file)\n",
      "\n"
     ]
    }
   ],
   "source": [
    "%%typecheck\n",
    "# Homogeneus tuple \n",
    "\n",
    "import typing as tp\n",
    "\n",
    "def f(a: tp.Tuple[float, ...]):\n",
    "    a[0] + 1\n",
    "    a[1] << 10\n",
    "    a[100500] = 1.54\n",
    "\n",
    "f((1, 2, 3, 4, 5))\n",
    "f((1.1, 2.1, 3.1, 4.1, 5.1))\n",
    "f((\"3\", \"2\", \"1\"))\n",
    "f(tuple())"
   ]
  },
  {
   "cell_type": "markdown",
   "metadata": {
    "pycharm": {
     "name": "#%% md\n"
    },
    "slideshow": {
     "slide_type": "fragment"
    }
   },
   "source": [
    "### Какая вариантность у Tuple?"
   ]
  },
  {
   "cell_type": "markdown",
   "metadata": {
    "pycharm": {
     "name": "#%% md\n"
    },
    "slideshow": {
     "slide_type": "slide"
    }
   },
   "source": [
    "### typing.List (list)"
   ]
  },
  {
   "cell_type": "code",
   "execution_count": 25,
   "metadata": {
    "pycharm": {
     "name": "#%%\n"
    }
   },
   "outputs": [
    {
     "name": "stdout",
     "output_type": "stream",
     "text": [
      "A generic version of list.\n"
     ]
    }
   ],
   "source": [
    "import typing as tp\n",
    "print(\"\\n\".join(tp.List.__doc__.split(\"\\n\")[0:3]))"
   ]
  },
  {
   "cell_type": "markdown",
   "metadata": {
    "pycharm": {
     "name": "#%% md\n"
    },
    "slideshow": {
     "slide_type": "slide"
    }
   },
   "source": [
    "### List, пример 1/3"
   ]
  },
  {
   "cell_type": "code",
   "execution_count": 26,
   "metadata": {
    "cell_style": "split",
    "collapsed": true,
    "pycharm": {
     "name": "#%%\n"
    }
   },
   "outputs": [
    {
     "name": "stdout",
     "output_type": "stream",
     "text": [
      "<string>:5: note: Revealed type is \"builtins.list[builtins.object]\"\n",
      "Success: no issues found in 1 source file\n",
      "\n"
     ]
    }
   ],
   "source": [
    "%%typecheck\n",
    "\n",
    "a = [1, \"hello\", 5.1]\n",
    "reveal_type(a)\n",
    "\n",
    "a.append(1)\n",
    "a.append(1.0)\n",
    "a.append(\"hi\")\n",
    "a.append([])"
   ]
  },
  {
   "cell_type": "code",
   "execution_count": 27,
   "metadata": {
    "cell_style": "split",
    "collapsed": true,
    "pycharm": {
     "name": "#%%\n"
    }
   },
   "outputs": [
    {
     "name": "stdout",
     "output_type": "stream",
     "text": [
      "<string>:5: error: Need type annotation for \"a\" (hint: \"a: List[<type>] = ...\")\n",
      "<string>:6: note: Revealed type is \"builtins.list[Any]\"\n",
      "Found 1 error in 1 file (checked 1 source file)\n",
      "\n"
     ]
    }
   ],
   "source": [
    "%%typecheck\n",
    "\n",
    "a = []\n",
    "reveal_type(a)"
   ]
  },
  {
   "cell_type": "markdown",
   "metadata": {
    "pycharm": {
     "name": "#%% md\n"
    },
    "slideshow": {
     "slide_type": "slide"
    }
   },
   "source": [
    "### List, пример 2/3"
   ]
  },
  {
   "cell_type": "code",
   "execution_count": 28,
   "metadata": {
    "cell_style": "split",
    "collapsed": true,
    "pycharm": {
     "name": "#%%\n"
    }
   },
   "outputs": [
    {
     "name": "stdout",
     "output_type": "stream",
     "text": [
      "<string>:8: note: Revealed type is \"builtins.list[builtins.float]\"\n",
      "Success: no issues found in 1 source file\n",
      "\n"
     ]
    }
   ],
   "source": [
    "%%typecheck\n",
    "\n",
    "a: list[float] = []\n",
    "\n",
    "a.append(1)\n",
    "reveal_type(a)"
   ]
  },
  {
   "cell_type": "code",
   "execution_count": 29,
   "metadata": {
    "cell_style": "split",
    "collapsed": true,
    "pycharm": {
     "name": "#%%\n"
    }
   },
   "outputs": [
    {
     "name": "stdout",
     "output_type": "stream",
     "text": [
      "<string>:7: error: Argument 1 to \"append\" of \"list\" has incompatible type \"float\"; expected \"int\"\n",
      "<string>:8: note: Revealed type is \"builtins.list[builtins.int]\"\n",
      "Found 1 error in 1 file (checked 1 source file)\n",
      "\n"
     ]
    }
   ],
   "source": [
    "%%typecheck\n",
    "\n",
    "a: list[int] = []\n",
    "\n",
    "a.append(1.1)\n",
    "reveal_type(a)"
   ]
  },
  {
   "cell_type": "markdown",
   "metadata": {
    "pycharm": {
     "name": "#%% md\n"
    },
    "slideshow": {
     "slide_type": "slide"
    }
   },
   "source": [
    "### List, пример 3/3"
   ]
  },
  {
   "cell_type": "code",
   "execution_count": 30,
   "metadata": {
    "cell_style": "split",
    "collapsed": true,
    "pycharm": {
     "name": "#%%\n"
    }
   },
   "outputs": [
    {
     "name": "stdout",
     "output_type": "stream",
     "text": [
      "<string>:10: note: Revealed type is \"builtins.list[builtins.float]\"\n",
      "<string>:12: error: Argument 1 to \"foo\" has incompatible type \"List[float]\"; expected \"List[int]\"\n",
      "Found 1 error in 1 file (checked 1 source file)\n",
      "\n"
     ]
    }
   ],
   "source": [
    "%%typecheck\n",
    "# Повышение типа параметра\n",
    "\n",
    "def foo(a: list[int]) -> None:\n",
    "    pass\n",
    "\n",
    "my_list = [1.1, 3.1, 5.1]\n",
    "reveal_type(my_list)\n",
    "\n",
    "foo(my_list)"
   ]
  },
  {
   "cell_type": "code",
   "execution_count": 31,
   "metadata": {
    "cell_style": "split",
    "collapsed": true,
    "pycharm": {
     "name": "#%%\n"
    }
   },
   "outputs": [
    {
     "name": "stdout",
     "output_type": "stream",
     "text": [
      "<string>:10: note: Revealed type is \"builtins.list[builtins.int]\"\n",
      "<string>:12: error: Argument 1 to \"foo\" has incompatible type \"List[int]\"; expected \"List[float]\"\n",
      "<string>:12: note: \"List\" is invariant -- see https://mypy.readthedocs.io/en/stable/common_issues.html#variance\n",
      "<string>:12: note: Consider using \"Sequence\" instead, which is covariant\n",
      "Found 1 error in 1 file (checked 1 source file)\n",
      "\n"
     ]
    }
   ],
   "source": [
    "%%typecheck\n",
    "# Понижение типа параметра\n",
    "\n",
    "def foo(a: list[float]) -> None:\n",
    "    pass\n",
    "\n",
    "my_list = [1, 2, 3]\n",
    "reveal_type(my_list)\n",
    "\n",
    "foo(my_list)"
   ]
  },
  {
   "cell_type": "markdown",
   "metadata": {
    "pycharm": {
     "name": "#%% md\n"
    },
    "slideshow": {
     "slide_type": "fragment"
    }
   },
   "source": [
    "### Какая вариантность у List?"
   ]
  },
  {
   "cell_type": "markdown",
   "metadata": {
    "pycharm": {
     "name": "#%% md\n"
    },
    "slideshow": {
     "slide_type": "slide"
    }
   },
   "source": [
    "### typing.Sequence/typing.Mapping"
   ]
  },
  {
   "cell_type": "raw",
   "metadata": {
    "pycharm": {
     "name": "#%% raw\n"
    }
   },
   "source": [
    "Sequence[T_co] -> List[T]\n",
    "Mapping[KT,VT_co] -> Dict[KT,VT]"
   ]
  },
  {
   "cell_type": "markdown",
   "metadata": {
    "pycharm": {
     "name": "#%% md\n"
    },
    "slideshow": {
     "slide_type": "slide"
    }
   },
   "source": [
    "### Sequence, пример"
   ]
  },
  {
   "cell_type": "code",
   "execution_count": 32,
   "metadata": {
    "cell_style": "split",
    "collapsed": true,
    "pycharm": {
     "name": "#%%\n"
    }
   },
   "outputs": [
    {
     "name": "stdout",
     "output_type": "stream",
     "text": [
      "<string>:10: error: Argument 1 to \"foo\" has incompatible type \"List[int]\"; expected \"List[float]\"\n",
      "<string>:10: note: \"List\" is invariant -- see https://mypy.readthedocs.io/en/stable/common_issues.html#variance\n",
      "<string>:10: note: Consider using \"Sequence\" instead, which is covariant\n",
      "Found 1 error in 1 file (checked 1 source file)\n",
      "\n"
     ]
    }
   ],
   "source": [
    "%%typecheck\n",
    "\n",
    "\n",
    "\n",
    "def foo(a: list[float]) -> float:\n",
    "    return a[0]\n",
    "\n",
    "my_list = [1, 3, 5]\n",
    "\n",
    "foo(my_list)"
   ]
  },
  {
   "cell_type": "code",
   "execution_count": 33,
   "metadata": {
    "cell_style": "split",
    "collapsed": true,
    "pycharm": {
     "name": "#%%\n"
    }
   },
   "outputs": [
    {
     "name": "stdout",
     "output_type": "stream",
     "text": [
      "Success: no issues found in 1 source file\n",
      "\n"
     ]
    }
   ],
   "source": [
    "%%typecheck\n",
    "\n",
    "import typing as tp\n",
    "\n",
    "def foo(a: tp.Sequence[float]) -> float:\n",
    "    return a[0]\n",
    "\n",
    "my_list = [1, 3, 5]\n",
    "\n",
    "foo(my_list)"
   ]
  },
  {
   "cell_type": "markdown",
   "metadata": {
    "pycharm": {
     "name": "#%% md\n"
    },
    "slideshow": {
     "slide_type": "slide"
    }
   },
   "source": [
    "### Mapping, пример"
   ]
  },
  {
   "cell_type": "code",
   "execution_count": 34,
   "metadata": {
    "cell_style": "split",
    "collapsed": true,
    "pycharm": {
     "name": "#%%\n"
    }
   },
   "outputs": [
    {
     "name": "stdout",
     "output_type": "stream",
     "text": [
      "<string>:10: error: Argument 1 to \"foo\" has incompatible type \"Dict[str, int]\"; expected \"Dict[str, float]\"\n",
      "<string>:10: note: \"Dict\" is invariant -- see https://mypy.readthedocs.io/en/stable/common_issues.html#variance\n",
      "<string>:10: note: Consider using \"Mapping\" instead, which is covariant in the value type\n",
      "Found 1 error in 1 file (checked 1 source file)\n",
      "\n"
     ]
    }
   ],
   "source": [
    "%%typecheck\n",
    "\n",
    "\n",
    "\n",
    "def foo(a: dict[str, float]) -> float:\n",
    "    return a[\"key\"]\n",
    "\n",
    "my_dict = {\"hey\": 1}\n",
    "\n",
    "foo(my_dict)"
   ]
  },
  {
   "cell_type": "code",
   "execution_count": 35,
   "metadata": {
    "cell_style": "split",
    "collapsed": true,
    "pycharm": {
     "name": "#%%\n"
    }
   },
   "outputs": [
    {
     "name": "stdout",
     "output_type": "stream",
     "text": [
      "Success: no issues found in 1 source file\n",
      "\n"
     ]
    }
   ],
   "source": [
    "%%typecheck\n",
    "\n",
    "import typing as tp\n",
    "\n",
    "def foo(a: tp.Mapping[str, float]) -> float:\n",
    "    return a[\"key\"]\n",
    "\n",
    "my_dict = {\"hey\": 1}\n",
    "\n",
    "foo(my_dict)"
   ]
  },
  {
   "cell_type": "markdown",
   "metadata": {
    "pycharm": {
     "name": "#%% md\n"
    },
    "slideshow": {
     "slide_type": "slide"
    }
   },
   "source": [
    "### Иерархия типов генериков\n",
    "<img src=\"images/hierarchy2.jpg\">"
   ]
  },
  {
   "cell_type": "markdown",
   "metadata": {
    "pycharm": {
     "name": "#%% md\n"
    },
    "slideshow": {
     "slide_type": "slide"
    }
   },
   "source": [
    "### Примеры на иерархию Sequence/Mapping "
   ]
  },
  {
   "cell_type": "code",
   "execution_count": 38,
   "metadata": {
    "cell_style": "split",
    "collapsed": true,
    "pycharm": {
     "name": "#%%\n"
    }
   },
   "outputs": [
    {
     "name": "stdout",
     "output_type": "stream",
     "text": [
      "<string>:21: error: Argument 1 to \"foo2\" has incompatible type \"List[int]\"; expected \"MutableSequence[float]\"\n",
      "<string>:22: error: Argument 1 to \"foo3\" has incompatible type \"List[int]\"; expected \"List[float]\"\n",
      "<string>:22: note: \"List\" is invariant -- see https://mypy.readthedocs.io/en/stable/common_issues.html#variance\n",
      "<string>:22: note: Consider using \"Sequence\" instead, which is covariant\n",
      "Found 2 errors in 1 file (checked 1 source file)\n",
      "\n"
     ]
    }
   ],
   "source": [
    "%%typecheck\n",
    "\n",
    "import typing as tp\n",
    "\n",
    "\n",
    "def foo1(a: tp.Sequence[float]) -> None:\n",
    "    pass\n",
    "\n",
    "def foo2(a: tp.MutableSequence[float]) -> None:\n",
    "    pass\n",
    "\n",
    "def foo3(a: list[float]) -> None:\n",
    "    pass\n",
    "\n",
    "def foo4(a: list) -> None:\n",
    "    pass\n",
    "\n",
    "\n",
    "a = [1]\n",
    "foo1(a)\n",
    "foo2(a)\n",
    "foo3(a)\n",
    "foo4(a)\n"
   ]
  },
  {
   "cell_type": "code",
   "execution_count": 39,
   "metadata": {
    "cell_style": "split",
    "collapsed": true,
    "pycharm": {
     "name": "#%%\n"
    }
   },
   "outputs": [
    {
     "name": "stdout",
     "output_type": "stream",
     "text": [
      "<string>:21: error: Argument 1 to \"foo2\" has incompatible type \"Dict[str, int]\"; expected \"MutableMapping[str, float]\"\n",
      "<string>:22: error: Argument 1 to \"foo3\" has incompatible type \"Dict[str, int]\"; expected \"Dict[str, float]\"\n",
      "<string>:22: note: \"Dict\" is invariant -- see https://mypy.readthedocs.io/en/stable/common_issues.html#variance\n",
      "<string>:22: note: Consider using \"Mapping\" instead, which is covariant in the value type\n",
      "Found 2 errors in 1 file (checked 1 source file)\n",
      "\n"
     ]
    }
   ],
   "source": [
    "%%typecheck\n",
    "\n",
    "import typing as tp\n",
    "\n",
    "\n",
    "def foo1(a: tp.Mapping[str, float]) -> None:\n",
    "    pass\n",
    "\n",
    "def foo2(a: tp.MutableMapping[str, float]) -> None:\n",
    "    pass\n",
    "\n",
    "def foo3(a: dict[str, float]) -> None:\n",
    "    pass\n",
    "\n",
    "def foo4(a: dict) -> None:\n",
    "    pass\n",
    "\n",
    "\n",
    "a = {'a': 1}\n",
    "foo1(a)\n",
    "foo2(a)\n",
    "foo3(a)\n",
    "foo4(a)"
   ]
  },
  {
   "cell_type": "markdown",
   "metadata": {
    "pycharm": {
     "name": "#%% md\n"
    },
    "slideshow": {
     "slide_type": "slide"
    }
   },
   "source": [
    "### Generic functions, TypeVar"
   ]
  },
  {
   "cell_type": "code",
   "execution_count": 40,
   "metadata": {
    "pycharm": {
     "name": "#%%\n"
    }
   },
   "outputs": [
    {
     "data": {
      "text/plain": [
       "'Type variable.'"
      ]
     },
     "execution_count": 40,
     "metadata": {},
     "output_type": "execute_result"
    }
   ],
   "source": [
    "import typing\n",
    "tp.TypeVar.__doc__.split(\"\\n\")[0]"
   ]
  },
  {
   "cell_type": "markdown",
   "metadata": {
    "pycharm": {
     "name": "#%% md\n"
    },
    "slideshow": {
     "slide_type": "slide"
    }
   },
   "source": [
    "### TypeVar, пример 1/3 (правда пока что без TypeVar'а)"
   ]
  },
  {
   "cell_type": "code",
   "execution_count": 41,
   "metadata": {
    "cell_style": "split",
    "collapsed": true,
    "pycharm": {
     "name": "#%%\n"
    }
   },
   "outputs": [
    {
     "name": "stdout",
     "output_type": "stream",
     "text": [
      "<string>:7: note: Revealed type is \"builtins.int\"\n",
      "<string>:11: note: Revealed type is \"builtins.int\"\n",
      "Success: no issues found in 1 source file\n",
      "\n"
     ]
    }
   ],
   "source": [
    "%%typecheck\n",
    "\n",
    "import typing as tp\n",
    "\n",
    "\n",
    "def foo(a: int, b: int) -> int:\n",
    "    reveal_type(a)\n",
    "    return a + b\n",
    "\n",
    "a = foo(1, 2)\n",
    "reveal_type(a)"
   ]
  },
  {
   "cell_type": "code",
   "execution_count": 42,
   "metadata": {
    "cell_style": "split",
    "collapsed": true,
    "pycharm": {
     "name": "#%%\n"
    }
   },
   "outputs": [
    {
     "name": "stdout",
     "output_type": "stream",
     "text": [
      "<string>:13: note: Revealed type is \"builtins.int\"\n",
      "<string>:16: note: Revealed type is \"builtins.str\"\n",
      "<string>:18: error: Argument 1 to \"foo\" has incompatible type \"str\"; expected \"int\"\n",
      "<string>:19: note: Revealed type is \"builtins.int\"\n",
      "Found 1 error in 1 file (checked 1 source file)\n",
      "\n"
     ]
    }
   ],
   "source": [
    "%%typecheck\n",
    "\n",
    "import typing as tp\n",
    "\n",
    "\n",
    "def foo(a: int, b: int) -> int:\n",
    "    return a + b\n",
    "\n",
    "def foo2(a: str, b: str) -> str:\n",
    "    return a + b\n",
    "\n",
    "a = foo(1, 2)\n",
    "reveal_type(a)\n",
    "\n",
    "b = foo2(\"1\", \"2\")\n",
    "reveal_type(b)\n",
    "\n",
    "c = foo(\"1\", 2)\n",
    "reveal_type(c)"
   ]
  },
  {
   "cell_type": "markdown",
   "metadata": {
    "pycharm": {
     "name": "#%% md\n"
    },
    "slideshow": {
     "slide_type": "slide"
    }
   },
   "source": [
    "### TypeVar, пример 2/3"
   ]
  },
  {
   "cell_type": "code",
   "execution_count": 43,
   "metadata": {
    "cell_style": "split",
    "collapsed": true,
    "pycharm": {
     "name": "#%%\n"
    }
   },
   "outputs": [
    {
     "name": "stdout",
     "output_type": "stream",
     "text": [
      "<string>:7: note: Revealed type is \"Union[builtins.int, builtins.str]\"\n",
      "<string>:8: error: Unsupported operand types for + (\"int\" and \"str\")\n",
      "<string>:8: error: Unsupported operand types for + (\"str\" and \"int\")\n",
      "<string>:8: note: Both left and right operands are unions\n",
      "<string>:11: note: Revealed type is \"Union[builtins.int, builtins.str]\"\n",
      "<string>:14: note: Revealed type is \"Union[builtins.int, builtins.str]\"\n",
      "<string>:17: note: Revealed type is \"Union[builtins.int, builtins.str]\"\n",
      "Found 2 errors in 1 file (checked 1 source file)\n",
      "\n"
     ]
    }
   ],
   "source": [
    "%%typecheck\n",
    "\n",
    "import typing as tp\n",
    "\n",
    "\n",
    "def foo(a: tp.Union[int, str], b: tp.Union[int, str]) -> tp.Union[int, str]:\n",
    "    reveal_type(a)\n",
    "    return a + b\n",
    "\n",
    "a = foo(1, 2)\n",
    "reveal_type(a)\n",
    "\n",
    "b = foo(\"1\", \"2\")\n",
    "reveal_type(b)\n",
    "\n",
    "c = foo(\"1\", 2)\n",
    "reveal_type(c)\n"
   ]
  },
  {
   "cell_type": "code",
   "execution_count": 44,
   "metadata": {
    "cell_style": "split",
    "collapsed": true,
    "pycharm": {
     "name": "#%%\n"
    }
   },
   "outputs": [
    {
     "name": "stdout",
     "output_type": "stream",
     "text": [
      "<string>:8: note: Revealed type is \"builtins.int\"\n",
      "<string>:8: note: Revealed type is \"builtins.str\"\n",
      "<string>:12: note: Revealed type is \"builtins.int\"\n",
      "<string>:15: note: Revealed type is \"builtins.str\"\n",
      "<string>:17: error: Value of type variable \"T\" of \"foo\" cannot be \"object\"\n",
      "<string>:18: note: Revealed type is \"builtins.object\"\n",
      "Found 1 error in 1 file (checked 1 source file)\n",
      "\n"
     ]
    }
   ],
   "source": [
    "%%typecheck\n",
    "\n",
    "import typing as tp\n",
    "\n",
    "T = tp.TypeVar('T', int, str)\n",
    "\n",
    "def foo(a: T, b: T) -> T:\n",
    "    reveal_type(a)\n",
    "    return a + b\n",
    "\n",
    "a = foo(1, 2)\n",
    "reveal_type(a)\n",
    "\n",
    "b = foo(\"1\", \"2\")\n",
    "reveal_type(b)\n",
    "\n",
    "c = foo(\"1\", 2)\n",
    "reveal_type(c)"
   ]
  },
  {
   "cell_type": "markdown",
   "metadata": {
    "pycharm": {
     "name": "#%% md\n"
    },
    "slideshow": {
     "slide_type": "slide"
    }
   },
   "source": [
    "### TypeVar, пример 3/3"
   ]
  },
  {
   "cell_type": "code",
   "execution_count": 45,
   "metadata": {
    "cell_style": "center",
    "collapsed": true,
    "pycharm": {
     "name": "#%%\n"
    }
   },
   "outputs": [
    {
     "name": "stdout",
     "output_type": "stream",
     "text": [
      "<string>:11: note: Revealed type is \"builtins.int\"\n",
      "Success: no issues found in 1 source file\n",
      "\n"
     ]
    }
   ],
   "source": [
    "%%typecheck\n",
    "\n",
    "import typing as tp\n",
    "\n",
    "T = tp.TypeVar('T')\n",
    "\n",
    "def foo(a: list[T], n: int) -> T:\n",
    "    return a[n]\n",
    "\n",
    "a = foo([1, 2], 0)\n",
    "reveal_type(a)"
   ]
  },
  {
   "cell_type": "markdown",
   "metadata": {
    "pycharm": {
     "name": "#%% md\n"
    },
    "slideshow": {
     "slide_type": "slide"
    }
   },
   "source": [
    "###  Переменные классов, Type"
   ]
  },
  {
   "cell_type": "code",
   "execution_count": 46,
   "metadata": {
    "pycharm": {
     "name": "#%%\n"
    }
   },
   "outputs": [
    {
     "name": "stdout",
     "output_type": "stream",
     "text": [
      "A special construct usable to annotate class objects.\n"
     ]
    }
   ],
   "source": [
    "# https://www.python.org/dev/peps/pep-0484/#the-type-of-class-objects\n",
    "\n",
    "import typing as tp\n",
    "print(tp.Type.__doc__.split(\"\\n\")[0])"
   ]
  },
  {
   "cell_type": "code",
   "execution_count": 47,
   "metadata": {
    "collapsed": true,
    "pycharm": {
     "name": "#%%\n"
    }
   },
   "outputs": [
    {
     "name": "stdout",
     "output_type": "stream",
     "text": [
      "Success: no issues found in 1 source file\n",
      "\n"
     ]
    }
   ],
   "source": [
    "%%typecheck\n",
    "\n",
    "import typing as tp\n",
    "\n",
    "a: tp.Type[int] = int\n",
    "\n",
    "class B:\n",
    "    pass\n",
    "\n",
    "b: tp.Type[B] = B"
   ]
  },
  {
   "cell_type": "markdown",
   "metadata": {
    "pycharm": {
     "name": "#%% md\n"
    },
    "slideshow": {
     "slide_type": "slide"
    }
   },
   "source": [
    "###  Type, пример"
   ]
  },
  {
   "cell_type": "code",
   "execution_count": 48,
   "metadata": {
    "cell_style": "split",
    "collapsed": true,
    "pycharm": {
     "name": "#%%\n"
    }
   },
   "outputs": [
    {
     "name": "stdout",
     "output_type": "stream",
     "text": [
      "<string>:14: error: Argument 1 to \"foo\" has incompatible type \"A\"; expected \"Type[A]\"\n",
      "<string>:16: error: Argument 1 to \"foo\" has incompatible type \"B\"; expected \"Type[A]\"\n",
      "Found 2 errors in 1 file (checked 1 source file)\n",
      "\n"
     ]
    }
   ],
   "source": [
    "%%typecheck\n",
    "import typing as tp\n",
    "\n",
    "class A:\n",
    "    pass\n",
    "\n",
    "class B(A):\n",
    "    pass\n",
    "\n",
    "def foo(a: tp.Type[A]) -> None:\n",
    "    pass\n",
    "\n",
    "\n",
    "foo(A())\n",
    "foo(A)\n",
    "foo(B())\n",
    "foo(B)"
   ]
  },
  {
   "cell_type": "code",
   "execution_count": 49,
   "metadata": {
    "cell_style": "split",
    "collapsed": true,
    "pycharm": {
     "name": "#%%\n"
    }
   },
   "outputs": [
    {
     "name": "stdout",
     "output_type": "stream",
     "text": [
      "<string>:14: note: Revealed type is \"__main__.A\"\n",
      "Success: no issues found in 1 source file\n",
      "\n"
     ]
    }
   ],
   "source": [
    "%%typecheck\n",
    "import typing as tp\n",
    "\n",
    "\n",
    "class A:\n",
    "    def __init__(self, a: int) -> None:\n",
    "        self.a = a\n",
    "\n",
    "    @classmethod\n",
    "    def build(cls: tp.Type[A]) -> A:\n",
    "        return cls(1)\n",
    "\n",
    "\n",
    "reveal_type(A.build())"
   ]
  },
  {
   "cell_type": "markdown",
   "metadata": {
    "pycharm": {
     "name": "#%% md\n"
    },
    "slideshow": {
     "slide_type": "fragment"
    }
   },
   "source": [
    "###  Какая вариантность у Type?"
   ]
  },
  {
   "cell_type": "markdown",
   "metadata": {
    "pycharm": {
     "name": "#%% md\n"
    },
    "slideshow": {
     "slide_type": "slide"
    }
   },
   "source": [
    "### Функциональный тип Callable"
   ]
  },
  {
   "cell_type": "code",
   "execution_count": 51,
   "metadata": {
    "pycharm": {
     "name": "#%%\n"
    }
   },
   "outputs": [
    {
     "name": "stdout",
     "output_type": "stream",
     "text": [
      "Callable type; Callable[[int], str] is a function of (int) -> str.\n"
     ]
    }
   ],
   "source": [
    "import typing as tp\n",
    "print(tp.Callable.__doc__.split(\"\\n\")[0])"
   ]
  },
  {
   "cell_type": "code",
   "execution_count": 52,
   "metadata": {
    "collapsed": true,
    "pycharm": {
     "name": "#%%\n"
    }
   },
   "outputs": [
    {
     "name": "stdout",
     "output_type": "stream",
     "text": [
      "Success: no issues found in 1 source file\n",
      "\n"
     ]
    }
   ],
   "source": [
    "%%typecheck\n",
    "\n",
    "import typing as tp\n",
    "\n",
    "def g(a: int, b: float) -> float:\n",
    "    return 1.1\n",
    "\n",
    "a: tp.Callable[[int, float], float] = g"
   ]
  },
  {
   "cell_type": "markdown",
   "metadata": {
    "pycharm": {
     "name": "#%% md\n"
    },
    "slideshow": {
     "slide_type": "slide"
    }
   },
   "source": [
    "### Callable, пример 1/4"
   ]
  },
  {
   "cell_type": "code",
   "execution_count": 53,
   "metadata": {
    "cell_style": "split",
    "pycharm": {
     "name": "#%%\n"
    },
    "slideshow": {
     "slide_type": "-"
    }
   },
   "outputs": [
    {
     "name": "stdout",
     "output_type": "stream",
     "text": [
      "Success: no issues found in 1 source file\n",
      "\n"
     ]
    }
   ],
   "source": [
    "%%typecheck\n",
    "# Привычная функция\n",
    "\n",
    "import typing as tp\n",
    "\n",
    "def f(a: tp.Callable[[int, float], float]) -> None:\n",
    "    pass\n",
    "\n",
    "def g(a: int, b: float) -> float:\n",
    "    return 1.1\n",
    "\n",
    "f(g)"
   ]
  },
  {
   "cell_type": "code",
   "execution_count": 54,
   "metadata": {
    "cell_style": "split",
    "pycharm": {
     "name": "#%%\n"
    }
   },
   "outputs": [
    {
     "name": "stdout",
     "output_type": "stream",
     "text": [
      "Success: no issues found in 1 source file\n",
      "\n"
     ]
    }
   ],
   "source": [
    "%%typecheck\n",
    "# Функция без аргументов\n",
    "\n",
    "import typing as tp\n",
    "\n",
    "def f(a: tp.Callable[[], float]):\n",
    "    pass\n",
    "\n",
    "def g() -> float:\n",
    "    return 1.1\n",
    "\n",
    "f(g)"
   ]
  },
  {
   "cell_type": "markdown",
   "metadata": {
    "pycharm": {
     "name": "#%% md\n"
    },
    "slideshow": {
     "slide_type": "slide"
    }
   },
   "source": [
    "### Callable, пример 2/4"
   ]
  },
  {
   "cell_type": "code",
   "execution_count": 55,
   "metadata": {
    "cell_style": "split",
    "collapsed": true,
    "pycharm": {
     "name": "#%%\n"
    },
    "slideshow": {
     "slide_type": "-"
    }
   },
   "outputs": [
    {
     "name": "stdout",
     "output_type": "stream",
     "text": [
      "Success: no issues found in 1 source file\n",
      "\n"
     ]
    }
   ],
   "source": [
    "%%typecheck\n",
    "# Любые аргументы\n",
    "\n",
    "import typing as tp\n",
    "\n",
    "def f(a: tp.Callable[..., float]):\n",
    "    pass\n",
    "\n",
    "def g(a: int, b: str, c: int) -> float:\n",
    "    return 1.1\n",
    "\n",
    "f(g)"
   ]
  },
  {
   "cell_type": "code",
   "execution_count": 56,
   "metadata": {
    "cell_style": "split",
    "collapsed": true,
    "pycharm": {
     "name": "#%%\n"
    }
   },
   "outputs": [
    {
     "name": "stdout",
     "output_type": "stream",
     "text": [
      "Success: no issues found in 1 source file\n",
      "\n"
     ]
    }
   ],
   "source": [
    "%%typecheck\n",
    "# И лямбда тоже\n",
    "\n",
    "import typing as tp\n",
    "\n",
    "def f(a: tp.Callable[..., float]):\n",
    "    pass\n",
    "\n",
    "f(lambda a, b, c: 1.1)"
   ]
  },
  {
   "cell_type": "markdown",
   "metadata": {
    "pycharm": {
     "name": "#%% md\n"
    },
    "slideshow": {
     "slide_type": "slide"
    }
   },
   "source": [
    "### Callable, пример 3/4"
   ]
  },
  {
   "cell_type": "code",
   "execution_count": 57,
   "metadata": {
    "cell_style": "split",
    "collapsed": true,
    "pycharm": {
     "name": "#%%\n"
    }
   },
   "outputs": [
    {
     "name": "stdout",
     "output_type": "stream",
     "text": [
      "Success: no issues found in 1 source file\n",
      "\n"
     ]
    }
   ],
   "source": [
    "%%typecheck\n",
    "# Повышаем тип аргумента\n",
    "\n",
    "import typing as tp\n",
    "\n",
    "def f(a: tp.Callable[[int], float]):\n",
    "    pass\n",
    "\n",
    "def g(a: float) -> float:\n",
    "    return a\n",
    "\n",
    "f(g)"
   ]
  },
  {
   "cell_type": "code",
   "execution_count": 58,
   "metadata": {
    "cell_style": "split",
    "collapsed": true,
    "pycharm": {
     "name": "#%%\n"
    }
   },
   "outputs": [
    {
     "name": "stdout",
     "output_type": "stream",
     "text": [
      "<string>:12: error: Argument 1 to \"f\" has incompatible type \"Callable[[int], float]\"; expected \"Callable[[float], float]\"\n",
      "Found 1 error in 1 file (checked 1 source file)\n",
      "\n"
     ]
    }
   ],
   "source": [
    "%%typecheck\n",
    "# Понижаем тип аргумента\n",
    "\n",
    "import typing as tp\n",
    "\n",
    "def f(a: tp.Callable[[float], float]):\n",
    "    pass\n",
    "\n",
    "def g(a: int) -> float:\n",
    "    return a\n",
    "\n",
    "f(g)"
   ]
  },
  {
   "cell_type": "markdown",
   "metadata": {
    "pycharm": {
     "name": "#%% md\n"
    },
    "slideshow": {
     "slide_type": "slide"
    }
   },
   "source": [
    "### Callable, пример 4/4"
   ]
  },
  {
   "cell_type": "code",
   "execution_count": 59,
   "metadata": {
    "cell_style": "split",
    "collapsed": true,
    "pycharm": {
     "name": "#%%\n"
    }
   },
   "outputs": [
    {
     "name": "stdout",
     "output_type": "stream",
     "text": [
      "<string>:12: error: Argument 1 to \"f\" has incompatible type \"Callable[[int], float]\"; expected \"Callable[[int], int]\"\n",
      "Found 1 error in 1 file (checked 1 source file)\n",
      "\n"
     ]
    }
   ],
   "source": [
    "%%typecheck\n",
    "# Повышаем тип возвращаемого значения\n",
    "\n",
    "import typing as tp\n",
    "\n",
    "def f(a: tp.Callable[[int], int]):\n",
    "    pass\n",
    "\n",
    "def g(a: int) -> float:\n",
    "    return a\n",
    "\n",
    "f(g)"
   ]
  },
  {
   "cell_type": "code",
   "execution_count": 60,
   "metadata": {
    "cell_style": "split",
    "collapsed": true,
    "pycharm": {
     "name": "#%%\n"
    }
   },
   "outputs": [
    {
     "name": "stdout",
     "output_type": "stream",
     "text": [
      "Success: no issues found in 1 source file\n",
      "\n"
     ]
    }
   ],
   "source": [
    "%%typecheck\n",
    "# Понижаем тип возвращаемого значения\n",
    "\n",
    "import typing as tp\n",
    "\n",
    "def f(a: tp.Callable[[int], float]):\n",
    "    pass\n",
    "\n",
    "def g(a: int) -> int:\n",
    "    return a\n",
    "\n",
    "f(g)"
   ]
  },
  {
   "cell_type": "markdown",
   "metadata": {
    "pycharm": {
     "name": "#%% md\n"
    },
    "slideshow": {
     "slide_type": "fragment"
    }
   },
   "source": [
    "### Какая вариантность Callable по аргументам? По возвращаемому значению?"
   ]
  },
  {
   "cell_type": "markdown",
   "metadata": {
    "pycharm": {
     "name": "#%% md\n"
    },
    "slideshow": {
     "slide_type": "slide"
    }
   },
   "source": [
    "### Создание собственных Generic классов"
   ]
  },
  {
   "cell_type": "code",
   "execution_count": 63,
   "metadata": {},
   "outputs": [
    {
     "name": "stdout",
     "output_type": "stream",
     "text": [
      "Abstract base class for generic types.\n"
     ]
    }
   ],
   "source": [
    "import typing as tp\n",
    "print(tp.Generic.__doc__.split('\\n')[0])"
   ]
  },
  {
   "cell_type": "markdown",
   "metadata": {
    "pycharm": {
     "name": "#%% md\n"
    },
    "slideshow": {
     "slide_type": "slide"
    }
   },
   "source": [
    "### Generic, пример 1/2"
   ]
  },
  {
   "cell_type": "code",
   "execution_count": 70,
   "metadata": {
    "cell_style": "split",
    "pycharm": {
     "name": "#%%\n"
    }
   },
   "outputs": [
    {
     "name": "stdout",
     "output_type": "stream",
     "text": [
      "<string>:8: error: Need type annotation for \"_a\"\n",
      "<string>:9: note: Revealed type is \"builtins.str\"\n",
      "<string>:9: note: Revealed type is \"Any\"\n",
      "<string>:12: note: Revealed type is \"Any\"\n",
      "<string>:17: note: Revealed type is \"__main__.A\"\n",
      "<string>:19: note: Revealed type is \"builtins.str\"\n",
      "Found 1 error in 1 file (checked 1 source file)\n",
      "\n"
     ]
    }
   ],
   "source": [
    "%%typecheck\n",
    "import typing as tp\n",
    "    \n",
    "T = tp.TypeVar(\"T\", str, int)\n",
    "\n",
    "class A:\n",
    "    def __init__(self, a: T) -> None:\n",
    "        self._a = a\n",
    "        reveal_type(self._a)\n",
    "        \n",
    "    def am(self) -> T:\n",
    "        reveal_type(self._a)\n",
    "        return self._a + self._a\n",
    "\n",
    "    \n",
    "a = A(1)\n",
    "reveal_type(a)\n",
    "b = a.am()\n",
    "reveal_type(b)"
   ]
  },
  {
   "cell_type": "code",
   "execution_count": 71,
   "metadata": {
    "cell_style": "split",
    "pycharm": {
     "name": "#%%\n"
    }
   },
   "outputs": [
    {
     "name": "stdout",
     "output_type": "stream",
     "text": [
      "<string>:9: note: Revealed type is \"builtins.int\"\n",
      "<string>:9: note: Revealed type is \"builtins.str\"\n",
      "<string>:12: note: Revealed type is \"builtins.int\"\n",
      "<string>:12: note: Revealed type is \"builtins.str\"\n",
      "<string>:17: note: Revealed type is \"__main__.A[builtins.int]\"\n",
      "<string>:19: note: Revealed type is \"builtins.int\"\n",
      "<string>:22: note: Revealed type is \"__main__.A[builtins.str]\"\n",
      "<string>:24: note: Revealed type is \"builtins.str\"\n",
      "Success: no issues found in 1 source file\n",
      "\n"
     ]
    }
   ],
   "source": [
    "%%typecheck\n",
    "import typing as tp\n",
    "\n",
    "T = tp.TypeVar(\"T\", int, str)\n",
    "\n",
    "class A(tp.Generic[T]):    \n",
    "    def __init__(self, a: T) -> None:\n",
    "        self._a: T = a\n",
    "        reveal_type(self._a)\n",
    "        \n",
    "    def am(self) -> T:\n",
    "        reveal_type(self._a)\n",
    "        return self._a\n",
    "\n",
    "\n",
    "a = A(1)\n",
    "reveal_type(a)\n",
    "b = a.am()\n",
    "reveal_type(b)\n",
    "\n",
    "c = A(\"hello\")\n",
    "reveal_type(c)\n",
    "d = c.am()\n",
    "reveal_type(d)"
   ]
  },
  {
   "cell_type": "markdown",
   "metadata": {
    "pycharm": {
     "name": "#%% md\n"
    },
    "slideshow": {
     "slide_type": "slide"
    }
   },
   "source": [
    "### Generic, пример 2/2"
   ]
  },
  {
   "cell_type": "code",
   "execution_count": 6,
   "metadata": {
    "cell_style": "split",
    "pycharm": {
     "name": "#%%\n"
    }
   },
   "outputs": [
    {
     "name": "stdout",
     "output_type": "stream",
     "text": [
      "<string>:17: note: Revealed type is \"__main__.A[builtins.int]\"\n",
      "<string>:20: error: Argument 1 to \"add\" of \"A\" has incompatible type \"str\"; expected \"float\"\n",
      "Found 1 error in 1 file (checked 1 source file)\n",
      "\n"
     ]
    }
   ],
   "source": [
    "%%typecheck\n",
    "\n",
    "import typing as tp\n",
    "\n",
    "T = tp.TypeVar(\"T\")\n",
    "\n",
    "class A(tp.Generic[T]):\n",
    "    def __init__(self) -> None:\n",
    "        self._a: tp.List[T] = []\n",
    "        \n",
    "    def add(self, a: T) -> None:\n",
    "        self._a.append(a)\n",
    "\n",
    "\n",
    "a: A[int] = A()\n",
    "a.add(1)\n",
    "reveal_type(a)\n",
    "\n",
    "b: A[float] = A()\n",
    "b.add(\"sss\")"
   ]
  },
  {
   "cell_type": "code",
   "execution_count": 7,
   "metadata": {
    "cell_style": "split",
    "pycharm": {
     "name": "#%%\n"
    }
   },
   "outputs": [
    {
     "name": "stdout",
     "output_type": "stream",
     "text": [
      "Success: no issues found in 1 source file\n",
      "\n"
     ]
    }
   ],
   "source": [
    "%%typecheck\n",
    "# Что поправить, чтобы был success?\n",
    "\n",
    "import typing as tp\n",
    "\n",
    "T = tp.TypeVar(\"T\", bound=int)\n",
    "\n",
    "class A(tp.Generic[T]):\n",
    "    def __init__(self, a: list[T]) -> None:\n",
    "        self._a = a\n",
    "        \n",
    "    def get(self) -> list[T]:\n",
    "        return self._a\n",
    "\n",
    "    \n",
    "def f(a: A[T]):\n",
    "    pass\n",
    "\n",
    "a: A[bool] = A([True, False])\n",
    "f(a)"
   ]
  },
  {
   "cell_type": "markdown",
   "metadata": {
    "pycharm": {
     "name": "#%% md\n"
    },
    "slideshow": {
     "slide_type": "slide"
    }
   },
   "source": [
    "### Типы → Nominal subtyping"
   ]
  },
  {
   "cell_type": "raw",
   "metadata": {
    "pycharm": {
     "name": "#%% raw\n"
    }
   },
   "source": [
    "Примеры:\n",
    "* int -> bool\n",
    "* Sequence -> MutableSequence\n",
    "* object -> все\n",
    "* A -> B\n",
    "\n",
    "class A:\n",
    "    pass\n",
    "    \n",
    "class B(A):\n",
    "    pass"
   ]
  },
  {
   "cell_type": "markdown",
   "metadata": {
    "pycharm": {
     "name": "#%% md\n"
    },
    "slideshow": {
     "slide_type": "fragment"
    }
   },
   "source": [
    "### Типы → Structural subtyping"
   ]
  },
  {
   "cell_type": "raw",
   "metadata": {
    "pycharm": {
     "name": "#%% raw\n"
    }
   },
   "source": [
    "Примеры: \n",
    "* Ecли у A есть метод __iter__, то Iterable -> A\n",
    "* Если у А есть метод __len__, то Sized -> A\n",
    "* Если у А есть метод __call__, то Callable -> A"
   ]
  },
  {
   "cell_type": "markdown",
   "metadata": {
    "pycharm": {
     "name": "#%% md\n"
    },
    "slideshow": {
     "slide_type": "slide"
    }
   },
   "source": [
    "### Structural subtyping, пример 1/2"
   ]
  },
  {
   "cell_type": "code",
   "execution_count": 10,
   "metadata": {
    "cell_style": "split",
    "collapsed": true,
    "pycharm": {
     "name": "#%%\n"
    }
   },
   "outputs": [
    {
     "name": "stdout",
     "output_type": "stream",
     "text": [
      "Success: no issues found in 1 source file\n",
      "\n"
     ]
    }
   ],
   "source": [
    "%%typecheck\n",
    "import typing as tp\n",
    "# проставьте тайпинг, чтобы не упало\n",
    "\n",
    "def validate_size(a, n) -> None:\n",
    "    if (a_len := len(a)) > n:\n",
    "        raise ValueError(\n",
    "            f\"Structure length {a_len} is greater then expected {n}\"\n",
    "        )\n",
    "\n",
    "        \n",
    "validate_size([10, 11], 1)"
   ]
  },
  {
   "cell_type": "code",
   "execution_count": 11,
   "metadata": {
    "cell_style": "split",
    "collapsed": true,
    "pycharm": {
     "name": "#%%\n"
    }
   },
   "outputs": [
    {
     "name": "stdout",
     "output_type": "stream",
     "text": [
      "Success: no issues found in 1 source file\n",
      "\n"
     ]
    }
   ],
   "source": [
    "%%typecheck\n",
    "import typing as tp\n",
    "# проставьте тайпинг, чтобы не упало\n",
    "\n",
    "def validate_size(a: tp.Sequence[int], n) -> None:\n",
    "    if (a_len := len(a)) > n:\n",
    "        raise ValueError(\n",
    "            f\"Structure length {a_len} is greater then expected {n}\"\n",
    "        )\n",
    "\n",
    "        \n",
    "validate_size([10, 11], 1)\n",
    "validate_size((1, 3, 10), 1)\n"
   ]
  },
  {
   "cell_type": "markdown",
   "metadata": {
    "pycharm": {
     "name": "#%% md\n"
    },
    "slideshow": {
     "slide_type": "slide"
    }
   },
   "source": [
    "### Structural subtyping, пример 2/2"
   ]
  },
  {
   "cell_type": "code",
   "execution_count": 15,
   "metadata": {
    "cell_style": "split",
    "collapsed": true,
    "pycharm": {
     "name": "#%%\n"
    }
   },
   "outputs": [
    {
     "name": "stdout",
     "output_type": "stream",
     "text": [
      "Success: no issues found in 1 source file\n",
      "\n"
     ]
    }
   ],
   "source": [
    "%%typecheck\n",
    "import typing as tp\n",
    "# проставьте тайпинг, чтобы не упало\n",
    "\n",
    "def validate_size(a, n) -> None:\n",
    "    if (a_len := len(a)) > n:\n",
    "        raise ValueError(\n",
    "            f\"Structure length {a_len} is greater then expected {n}\"\n",
    "        )\n",
    "        \n",
    "validate_size([10, 11], 1)\n",
    "validate_size((1, 3, 10), 1)\n",
    "validate_size({1, 3, 10}, 1)"
   ]
  },
  {
   "cell_type": "code",
   "execution_count": 16,
   "metadata": {
    "cell_style": "split",
    "collapsed": true,
    "pycharm": {
     "name": "#%%\n"
    }
   },
   "outputs": [
    {
     "name": "stdout",
     "output_type": "stream",
     "text": [
      "Success: no issues found in 1 source file\n",
      "\n"
     ]
    }
   ],
   "source": [
    "%%typecheck\n",
    "import typing as tp\n",
    "# проставьте тайпинг, чтобы не упало\n",
    "\n",
    "def validate_size(a, n) -> None:\n",
    "    if (a_len := len(a)) > n:\n",
    "        raise ValueError(\n",
    "            f\"Structure length {a_len} is greater then expected {n}\"\n",
    "        )\n",
    "        \n",
    "validate_size([10, 11], 1)\n",
    "validate_size((1, 3, 10), 1)\n",
    "validate_size({1, 3, 10}, 1)\n",
    "validate_size(A(), 1)\n",
    "\n",
    "class A:\n",
    "    def __len__(self):\n",
    "        return 1"
   ]
  },
  {
   "cell_type": "markdown",
   "metadata": {
    "pycharm": {
     "name": "#%% md\n"
    },
    "slideshow": {
     "slide_type": "slide"
    }
   },
   "source": [
    "### Собственный Structural Subtping - Protocol"
   ]
  },
  {
   "cell_type": "code",
   "execution_count": 17,
   "metadata": {
    "cell_style": "split",
    "collapsed": true,
    "pycharm": {
     "name": "#%%\n"
    }
   },
   "outputs": [
    {
     "name": "stdout",
     "output_type": "stream",
     "text": [
      "<string>:18: note: Revealed type is \"Any\"\n",
      "Success: no issues found in 1 source file\n",
      "\n"
     ]
    }
   ],
   "source": [
    "%%typecheck\n",
    "\n",
    "import typing as tp\n",
    "\n",
    "\n",
    "class A:\n",
    "    def close(self):\n",
    "        print(\"Close enough\")\n",
    "\n",
    "class B:\n",
    "    pass\n",
    "\n",
    "\n",
    "c = open(\"my_file\")\n",
    "\n",
    "\n",
    "def foo(a) -> None:\n",
    "    reveal_type(a)\n",
    "    a.close()\n",
    "\n",
    "\n",
    "foo(A())\n",
    "foo(B())\n",
    "foo(c)"
   ]
  },
  {
   "cell_type": "code",
   "execution_count": 18,
   "metadata": {
    "cell_style": "split",
    "collapsed": true,
    "pycharm": {
     "name": "#%%\n"
    }
   },
   "outputs": [
    {
     "name": "stdout",
     "output_type": "stream",
     "text": [
      "<string>:23: note: Revealed type is \"__main__.Closeable\"\n",
      "<string>:28: error: Argument 1 to \"foo\" has incompatible type \"B\"; expected \"Closeable\"\n",
      "Found 1 error in 1 file (checked 1 source file)\n",
      "\n"
     ]
    }
   ],
   "source": [
    "%%typecheck\n",
    "\n",
    "import typing as tp\n",
    "\n",
    "\n",
    "class Closeable(tp.Protocol):\n",
    "    def close(self) -> None:\n",
    "        pass\n",
    "    \n",
    "\n",
    "class A:\n",
    "    def close(self):\n",
    "        print(\"Close enough\")\n",
    "\n",
    "class B:\n",
    "    pass\n",
    "\n",
    "\n",
    "c = open(\"my_file\")\n",
    "\n",
    "\n",
    "def foo(a: Closeable) -> None:\n",
    "    reveal_type(a)\n",
    "    a.close()\n",
    "\n",
    "\n",
    "foo(A())\n",
    "foo(B())\n",
    "foo(c)"
   ]
  },
  {
   "cell_type": "markdown",
   "metadata": {
    "pycharm": {
     "name": "#%% md\n"
    },
    "slideshow": {
     "slide_type": "slide"
    }
   },
   "source": [
    "### Protocol and isinstance, runtime_checkable"
   ]
  },
  {
   "cell_type": "code",
   "execution_count": 21,
   "metadata": {
    "collapsed": true,
    "pycharm": {
     "name": "#%%\n"
    },
    "slideshow": {
     "slide_type": "-"
    }
   },
   "outputs": [
    {
     "ename": "TypeError",
     "evalue": "Instance and class checks can only be used with @runtime_checkable protocols",
     "output_type": "error",
     "traceback": [
      "\u001b[0;31m---------------------------------------------------------------------------\u001b[0m",
      "\u001b[0;31mTypeError\u001b[0m                                 Traceback (most recent call last)",
      "Cell \u001b[0;32mIn [21], line 13\u001b[0m\n\u001b[1;32m     10\u001b[0m     \u001b[38;5;28;01mdef\u001b[39;00m \u001b[38;5;21mclose\u001b[39m(\u001b[38;5;28mself\u001b[39m):\n\u001b[1;32m     11\u001b[0m         \u001b[38;5;28mprint\u001b[39m(\u001b[38;5;124m\"\u001b[39m\u001b[38;5;124mClose enough\u001b[39m\u001b[38;5;124m\"\u001b[39m)\n\u001b[0;32m---> 13\u001b[0m \u001b[38;5;28;43misinstance\u001b[39;49m\u001b[43m(\u001b[49m\u001b[43mA\u001b[49m\u001b[43m(\u001b[49m\u001b[43m)\u001b[49m\u001b[43m,\u001b[49m\u001b[43m \u001b[49m\u001b[43mCloseable\u001b[49m\u001b[43m)\u001b[49m\n",
      "File \u001b[0;32m~/.pyenv/versions/3.10.6/lib/python3.10/typing.py:1498\u001b[0m, in \u001b[0;36m_ProtocolMeta.__instancecheck__\u001b[0;34m(cls, instance)\u001b[0m\n\u001b[1;32m   1490\u001b[0m \u001b[38;5;28;01mdef\u001b[39;00m \u001b[38;5;21m__instancecheck__\u001b[39m(\u001b[38;5;28mcls\u001b[39m, instance):\n\u001b[1;32m   1491\u001b[0m     \u001b[38;5;66;03m# We need this method for situations where attributes are\u001b[39;00m\n\u001b[1;32m   1492\u001b[0m     \u001b[38;5;66;03m# assigned in __init__.\u001b[39;00m\n\u001b[1;32m   1493\u001b[0m     \u001b[38;5;28;01mif\u001b[39;00m (\n\u001b[1;32m   1494\u001b[0m         \u001b[38;5;28mgetattr\u001b[39m(\u001b[38;5;28mcls\u001b[39m, \u001b[38;5;124m'\u001b[39m\u001b[38;5;124m_is_protocol\u001b[39m\u001b[38;5;124m'\u001b[39m, \u001b[38;5;28;01mFalse\u001b[39;00m) \u001b[38;5;129;01mand\u001b[39;00m\n\u001b[1;32m   1495\u001b[0m         \u001b[38;5;129;01mnot\u001b[39;00m \u001b[38;5;28mgetattr\u001b[39m(\u001b[38;5;28mcls\u001b[39m, \u001b[38;5;124m'\u001b[39m\u001b[38;5;124m_is_runtime_protocol\u001b[39m\u001b[38;5;124m'\u001b[39m, \u001b[38;5;28;01mFalse\u001b[39;00m) \u001b[38;5;129;01mand\u001b[39;00m\n\u001b[1;32m   1496\u001b[0m         \u001b[38;5;129;01mnot\u001b[39;00m _allow_reckless_class_checks(depth\u001b[38;5;241m=\u001b[39m\u001b[38;5;241m2\u001b[39m)\n\u001b[1;32m   1497\u001b[0m     ):\n\u001b[0;32m-> 1498\u001b[0m         \u001b[38;5;28;01mraise\u001b[39;00m \u001b[38;5;167;01mTypeError\u001b[39;00m(\u001b[38;5;124m\"\u001b[39m\u001b[38;5;124mInstance and class checks can only be used with\u001b[39m\u001b[38;5;124m\"\u001b[39m\n\u001b[1;32m   1499\u001b[0m                         \u001b[38;5;124m\"\u001b[39m\u001b[38;5;124m @runtime_checkable protocols\u001b[39m\u001b[38;5;124m\"\u001b[39m)\n\u001b[1;32m   1501\u001b[0m     \u001b[38;5;28;01mif\u001b[39;00m ((\u001b[38;5;129;01mnot\u001b[39;00m \u001b[38;5;28mgetattr\u001b[39m(\u001b[38;5;28mcls\u001b[39m, \u001b[38;5;124m'\u001b[39m\u001b[38;5;124m_is_protocol\u001b[39m\u001b[38;5;124m'\u001b[39m, \u001b[38;5;28;01mFalse\u001b[39;00m) \u001b[38;5;129;01mor\u001b[39;00m\n\u001b[1;32m   1502\u001b[0m             _is_callable_members_only(\u001b[38;5;28mcls\u001b[39m)) \u001b[38;5;129;01mand\u001b[39;00m\n\u001b[1;32m   1503\u001b[0m             \u001b[38;5;28missubclass\u001b[39m(instance\u001b[38;5;241m.\u001b[39m\u001b[38;5;18m__class__\u001b[39m, \u001b[38;5;28mcls\u001b[39m)):\n\u001b[1;32m   1504\u001b[0m         \u001b[38;5;28;01mreturn\u001b[39;00m \u001b[38;5;28;01mTrue\u001b[39;00m\n",
      "\u001b[0;31mTypeError\u001b[0m: Instance and class checks can only be used with @runtime_checkable protocols"
     ]
    }
   ],
   "source": [
    "import typing as tp\n",
    "\n",
    "# @tp.runtime_checkable\n",
    "class Closeable(tp.Protocol):\n",
    "    def close(self) -> None:\n",
    "        pass\n",
    "\n",
    "\n",
    "class A:\n",
    "    def close(self):\n",
    "        print(\"Close enough\")\n",
    "\n",
    "isinstance(A(), Closeable)"
   ]
  },
  {
   "cell_type": "markdown",
   "metadata": {
    "pycharm": {
     "name": "#%% md\n"
    },
    "slideshow": {
     "slide_type": "slide"
    }
   },
   "source": [
    "### Сложна: Generic + Protocol"
   ]
  },
  {
   "cell_type": "code",
   "execution_count": 23,
   "metadata": {
    "collapsed": true,
    "pycharm": {
     "name": "#%%\n"
    },
    "slideshow": {
     "slide_type": "-"
    }
   },
   "outputs": [
    {
     "name": "stdout",
     "output_type": "stream",
     "text": [
      "<string>:19: error: Argument 1 to \"foo\" has incompatible type \"A\"; expected \"Iterable[int]\"\n",
      "<string>:25: error: Argument 1 to \"foo\" has incompatible type \"B[str]\"; expected \"Iterable[int]\"\n",
      "Found 2 errors in 1 file (checked 1 source file)\n",
      "\n"
     ]
    }
   ],
   "source": [
    "%%typecheck\n",
    "\n",
    "import typing as tp\n",
    "\n",
    "def foo(s: tp.Iterable[int]) -> None:\n",
    "    pass\n",
    "\n",
    "class A:\n",
    "    pass\n",
    "\n",
    "T = tp.TypeVar(\"T\")\n",
    "\n",
    "class B(tp.Generic[T]):\n",
    "    def __iter__(self) -> tp.Iterator[T]:\n",
    "        return iter([])\n",
    "    \n",
    "\n",
    "\n",
    "foo(A())\n",
    "\n",
    "b: B[int] = B()\n",
    "foo(b)\n",
    "\n",
    "c: B[str] = B()\n",
    "foo(c)\n",
    "\n",
    "foo([])"
   ]
  },
  {
   "cell_type": "code",
   "execution_count": null,
   "metadata": {},
   "outputs": [],
   "source": []
  }
 ],
 "metadata": {
  "celltoolbar": "Slideshow",
  "kernelspec": {
   "display_name": "Python 3 (ipykernel)",
   "language": "python",
   "name": "python3"
  },
  "language_info": {
   "codemirror_mode": {
    "name": "ipython",
    "version": 3
   },
   "file_extension": ".py",
   "mimetype": "text/x-python",
   "name": "python",
   "nbconvert_exporter": "python",
   "pygments_lexer": "ipython3",
   "version": "3.10.6"
  },
  "rise": {
   "enable_chalkboard": true,
   "footer": "<p style=\"margin: 5px; color: #a0a0a0\">YSDA Python Course</p>",
   "scroll": true,
   "start_slideshow_at": "selected",
   "theme": "serif"
  }
 },
 "nbformat": 4,
 "nbformat_minor": 2
}
